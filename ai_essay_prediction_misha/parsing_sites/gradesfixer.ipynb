{
 "cells": [
  {
   "cell_type": "code",
   "execution_count": 1,
   "outputs": [],
   "source": [
    "import numpy as np\n",
    "import pandas as pd\n",
    "import seaborn as sns\n",
    "import re\n",
    "import time\n",
    "\n",
    "from bs4 import BeautifulSoup\n",
    "import requests"
   ],
   "metadata": {
    "collapsed": false,
    "ExecuteTime": {
     "end_time": "2023-12-17T18:24:54.995634300Z",
     "start_time": "2023-12-17T18:24:54.499870900Z"
    }
   },
   "id": "aabc17a7a4a4578"
  },
  {
   "cell_type": "code",
   "execution_count": 2,
   "outputs": [],
   "source": [
    "url = 'https://gradesfixer.com'\n",
    "page = requests.get(url)\n",
    "soup = BeautifulSoup(page.text, 'html')"
   ],
   "metadata": {
    "collapsed": false,
    "ExecuteTime": {
     "end_time": "2023-12-17T18:24:56.825730Z",
     "start_time": "2023-12-17T18:24:54.996648Z"
    }
   }
  },
  {
   "cell_type": "code",
   "execution_count": 3,
   "outputs": [
    {
     "data": {
      "text/plain": "                                                  url\n0    https://gradesfixer.com/free-essay-examples/art/\n1   https://gradesfixer.com/free-essay-examples/bu...\n2   https://gradesfixer.com/free-essay-examples/ec...\n3   https://gradesfixer.com/free-essay-examples/ed...\n4   https://gradesfixer.com/free-essay-examples/en...\n5   https://gradesfixer.com/free-essay-examples/en...\n6   https://gradesfixer.com/free-essay-examples/go...\n7   https://gradesfixer.com/free-essay-examples/he...\n8   https://gradesfixer.com/free-essay-examples/hi...\n9   https://gradesfixer.com/free-essay-examples/in...\n10   https://gradesfixer.com/free-essay-examples/law/\n11  https://gradesfixer.com/free-essay-examples/life/\n12  https://gradesfixer.com/free-essay-examples/li...\n13  https://gradesfixer.com/free-essay-examples/ph...\n14  https://gradesfixer.com/free-essay-examples/ps...\n15  https://gradesfixer.com/free-essay-examples/re...\n16  https://gradesfixer.com/free-essay-examples/sc...\n17  https://gradesfixer.com/free-essay-examples/so...\n18  https://gradesfixer.com/free-essay-examples/so...\n19   https://gradesfixer.com/free-essay-examples/war/\n20  https://gradesfixer.com/free-essay-examples/wo...",
      "text/html": "<div>\n<style scoped>\n    .dataframe tbody tr th:only-of-type {\n        vertical-align: middle;\n    }\n\n    .dataframe tbody tr th {\n        vertical-align: top;\n    }\n\n    .dataframe thead th {\n        text-align: right;\n    }\n</style>\n<table border=\"1\" class=\"dataframe\">\n  <thead>\n    <tr style=\"text-align: right;\">\n      <th></th>\n      <th>url</th>\n    </tr>\n  </thead>\n  <tbody>\n    <tr>\n      <th>0</th>\n      <td>https://gradesfixer.com/free-essay-examples/art/</td>\n    </tr>\n    <tr>\n      <th>1</th>\n      <td>https://gradesfixer.com/free-essay-examples/bu...</td>\n    </tr>\n    <tr>\n      <th>2</th>\n      <td>https://gradesfixer.com/free-essay-examples/ec...</td>\n    </tr>\n    <tr>\n      <th>3</th>\n      <td>https://gradesfixer.com/free-essay-examples/ed...</td>\n    </tr>\n    <tr>\n      <th>4</th>\n      <td>https://gradesfixer.com/free-essay-examples/en...</td>\n    </tr>\n    <tr>\n      <th>5</th>\n      <td>https://gradesfixer.com/free-essay-examples/en...</td>\n    </tr>\n    <tr>\n      <th>6</th>\n      <td>https://gradesfixer.com/free-essay-examples/go...</td>\n    </tr>\n    <tr>\n      <th>7</th>\n      <td>https://gradesfixer.com/free-essay-examples/he...</td>\n    </tr>\n    <tr>\n      <th>8</th>\n      <td>https://gradesfixer.com/free-essay-examples/hi...</td>\n    </tr>\n    <tr>\n      <th>9</th>\n      <td>https://gradesfixer.com/free-essay-examples/in...</td>\n    </tr>\n    <tr>\n      <th>10</th>\n      <td>https://gradesfixer.com/free-essay-examples/law/</td>\n    </tr>\n    <tr>\n      <th>11</th>\n      <td>https://gradesfixer.com/free-essay-examples/life/</td>\n    </tr>\n    <tr>\n      <th>12</th>\n      <td>https://gradesfixer.com/free-essay-examples/li...</td>\n    </tr>\n    <tr>\n      <th>13</th>\n      <td>https://gradesfixer.com/free-essay-examples/ph...</td>\n    </tr>\n    <tr>\n      <th>14</th>\n      <td>https://gradesfixer.com/free-essay-examples/ps...</td>\n    </tr>\n    <tr>\n      <th>15</th>\n      <td>https://gradesfixer.com/free-essay-examples/re...</td>\n    </tr>\n    <tr>\n      <th>16</th>\n      <td>https://gradesfixer.com/free-essay-examples/sc...</td>\n    </tr>\n    <tr>\n      <th>17</th>\n      <td>https://gradesfixer.com/free-essay-examples/so...</td>\n    </tr>\n    <tr>\n      <th>18</th>\n      <td>https://gradesfixer.com/free-essay-examples/so...</td>\n    </tr>\n    <tr>\n      <th>19</th>\n      <td>https://gradesfixer.com/free-essay-examples/war/</td>\n    </tr>\n    <tr>\n      <th>20</th>\n      <td>https://gradesfixer.com/free-essay-examples/wo...</td>\n    </tr>\n  </tbody>\n</table>\n</div>"
     },
     "execution_count": 3,
     "metadata": {},
     "output_type": "execute_result"
    }
   ],
   "source": [
    "df_category = pd.DataFrame()\n",
    "\n",
    "categorical_urls =  [value['href'] for value in soup.find('li').find_all('a')]\n",
    "categorical_urls = categorical_urls[:-1]\n",
    "\n",
    "df_category['url'] = categorical_urls\n",
    "df_category"
   ],
   "metadata": {
    "collapsed": false,
    "ExecuteTime": {
     "end_time": "2023-12-17T18:24:56.911340200Z",
     "start_time": "2023-12-17T18:24:56.842459500Z"
    }
   }
  },
  {
   "cell_type": "code",
   "execution_count": 4,
   "outputs": [
    {
     "data": {
      "text/plain": "    index                                                url\n0       0   https://gradesfixer.com/free-essay-examples/art/\n1       1  https://gradesfixer.com/free-essay-examples/bu...\n2       2  https://gradesfixer.com/free-essay-examples/ec...\n3       3  https://gradesfixer.com/free-essay-examples/ed...\n4       4  https://gradesfixer.com/free-essay-examples/en...\n5       5  https://gradesfixer.com/free-essay-examples/en...\n6       6  https://gradesfixer.com/free-essay-examples/go...\n7       7  https://gradesfixer.com/free-essay-examples/he...\n8       8  https://gradesfixer.com/free-essay-examples/hi...\n9       9  https://gradesfixer.com/free-essay-examples/in...\n10     10   https://gradesfixer.com/free-essay-examples/law/\n11     11  https://gradesfixer.com/free-essay-examples/life/\n12     12  https://gradesfixer.com/free-essay-examples/li...\n13     13  https://gradesfixer.com/free-essay-examples/ph...\n14     14  https://gradesfixer.com/free-essay-examples/ps...\n15     15  https://gradesfixer.com/free-essay-examples/re...\n16     16  https://gradesfixer.com/free-essay-examples/sc...\n17     17  https://gradesfixer.com/free-essay-examples/so...\n18     18  https://gradesfixer.com/free-essay-examples/so...\n19     19   https://gradesfixer.com/free-essay-examples/war/\n20     20  https://gradesfixer.com/free-essay-examples/wo...",
      "text/html": "<div>\n<style scoped>\n    .dataframe tbody tr th:only-of-type {\n        vertical-align: middle;\n    }\n\n    .dataframe tbody tr th {\n        vertical-align: top;\n    }\n\n    .dataframe thead th {\n        text-align: right;\n    }\n</style>\n<table border=\"1\" class=\"dataframe\">\n  <thead>\n    <tr style=\"text-align: right;\">\n      <th></th>\n      <th>index</th>\n      <th>url</th>\n    </tr>\n  </thead>\n  <tbody>\n    <tr>\n      <th>0</th>\n      <td>0</td>\n      <td>https://gradesfixer.com/free-essay-examples/art/</td>\n    </tr>\n    <tr>\n      <th>1</th>\n      <td>1</td>\n      <td>https://gradesfixer.com/free-essay-examples/bu...</td>\n    </tr>\n    <tr>\n      <th>2</th>\n      <td>2</td>\n      <td>https://gradesfixer.com/free-essay-examples/ec...</td>\n    </tr>\n    <tr>\n      <th>3</th>\n      <td>3</td>\n      <td>https://gradesfixer.com/free-essay-examples/ed...</td>\n    </tr>\n    <tr>\n      <th>4</th>\n      <td>4</td>\n      <td>https://gradesfixer.com/free-essay-examples/en...</td>\n    </tr>\n    <tr>\n      <th>5</th>\n      <td>5</td>\n      <td>https://gradesfixer.com/free-essay-examples/en...</td>\n    </tr>\n    <tr>\n      <th>6</th>\n      <td>6</td>\n      <td>https://gradesfixer.com/free-essay-examples/go...</td>\n    </tr>\n    <tr>\n      <th>7</th>\n      <td>7</td>\n      <td>https://gradesfixer.com/free-essay-examples/he...</td>\n    </tr>\n    <tr>\n      <th>8</th>\n      <td>8</td>\n      <td>https://gradesfixer.com/free-essay-examples/hi...</td>\n    </tr>\n    <tr>\n      <th>9</th>\n      <td>9</td>\n      <td>https://gradesfixer.com/free-essay-examples/in...</td>\n    </tr>\n    <tr>\n      <th>10</th>\n      <td>10</td>\n      <td>https://gradesfixer.com/free-essay-examples/law/</td>\n    </tr>\n    <tr>\n      <th>11</th>\n      <td>11</td>\n      <td>https://gradesfixer.com/free-essay-examples/life/</td>\n    </tr>\n    <tr>\n      <th>12</th>\n      <td>12</td>\n      <td>https://gradesfixer.com/free-essay-examples/li...</td>\n    </tr>\n    <tr>\n      <th>13</th>\n      <td>13</td>\n      <td>https://gradesfixer.com/free-essay-examples/ph...</td>\n    </tr>\n    <tr>\n      <th>14</th>\n      <td>14</td>\n      <td>https://gradesfixer.com/free-essay-examples/ps...</td>\n    </tr>\n    <tr>\n      <th>15</th>\n      <td>15</td>\n      <td>https://gradesfixer.com/free-essay-examples/re...</td>\n    </tr>\n    <tr>\n      <th>16</th>\n      <td>16</td>\n      <td>https://gradesfixer.com/free-essay-examples/sc...</td>\n    </tr>\n    <tr>\n      <th>17</th>\n      <td>17</td>\n      <td>https://gradesfixer.com/free-essay-examples/so...</td>\n    </tr>\n    <tr>\n      <th>18</th>\n      <td>18</td>\n      <td>https://gradesfixer.com/free-essay-examples/so...</td>\n    </tr>\n    <tr>\n      <th>19</th>\n      <td>19</td>\n      <td>https://gradesfixer.com/free-essay-examples/war/</td>\n    </tr>\n    <tr>\n      <th>20</th>\n      <td>20</td>\n      <td>https://gradesfixer.com/free-essay-examples/wo...</td>\n    </tr>\n  </tbody>\n</table>\n</div>"
     },
     "execution_count": 4,
     "metadata": {},
     "output_type": "execute_result"
    }
   ],
   "source": [
    "df_category.reset_index(inplace=True)\n",
    "df_category"
   ],
   "metadata": {
    "collapsed": false,
    "ExecuteTime": {
     "end_time": "2023-12-17T18:24:56.996524500Z",
     "start_time": "2023-12-17T18:24:56.908796Z"
    }
   }
  },
  {
   "cell_type": "code",
   "execution_count": 5,
   "outputs": [
    {
     "data": {
      "text/plain": "    index                                                url  pages\n0       0   https://gradesfixer.com/free-essay-examples/art/     81\n1       1  https://gradesfixer.com/free-essay-examples/bu...    158\n2       2  https://gradesfixer.com/free-essay-examples/ec...     87\n3       3  https://gradesfixer.com/free-essay-examples/ed...    116\n4       4  https://gradesfixer.com/free-essay-examples/en...    172\n5       5  https://gradesfixer.com/free-essay-examples/en...     67\n6       6  https://gradesfixer.com/free-essay-examples/go...     96\n7       7  https://gradesfixer.com/free-essay-examples/he...    195\n8       8  https://gradesfixer.com/free-essay-examples/hi...    145\n9       9  https://gradesfixer.com/free-essay-examples/in...    108\n10     10   https://gradesfixer.com/free-essay-examples/law/    102\n11     11  https://gradesfixer.com/free-essay-examples/life/    398\n12     12  https://gradesfixer.com/free-essay-examples/li...    672\n13     13  https://gradesfixer.com/free-essay-examples/ph...     78\n14     14  https://gradesfixer.com/free-essay-examples/ps...     75\n15     15  https://gradesfixer.com/free-essay-examples/re...     52\n16     16  https://gradesfixer.com/free-essay-examples/sc...    141\n17     17  https://gradesfixer.com/free-essay-examples/so...    166\n18     18  https://gradesfixer.com/free-essay-examples/so...    206\n19     19   https://gradesfixer.com/free-essay-examples/war/     23\n20     20  https://gradesfixer.com/free-essay-examples/wo...    123",
      "text/html": "<div>\n<style scoped>\n    .dataframe tbody tr th:only-of-type {\n        vertical-align: middle;\n    }\n\n    .dataframe tbody tr th {\n        vertical-align: top;\n    }\n\n    .dataframe thead th {\n        text-align: right;\n    }\n</style>\n<table border=\"1\" class=\"dataframe\">\n  <thead>\n    <tr style=\"text-align: right;\">\n      <th></th>\n      <th>index</th>\n      <th>url</th>\n      <th>pages</th>\n    </tr>\n  </thead>\n  <tbody>\n    <tr>\n      <th>0</th>\n      <td>0</td>\n      <td>https://gradesfixer.com/free-essay-examples/art/</td>\n      <td>81</td>\n    </tr>\n    <tr>\n      <th>1</th>\n      <td>1</td>\n      <td>https://gradesfixer.com/free-essay-examples/bu...</td>\n      <td>158</td>\n    </tr>\n    <tr>\n      <th>2</th>\n      <td>2</td>\n      <td>https://gradesfixer.com/free-essay-examples/ec...</td>\n      <td>87</td>\n    </tr>\n    <tr>\n      <th>3</th>\n      <td>3</td>\n      <td>https://gradesfixer.com/free-essay-examples/ed...</td>\n      <td>116</td>\n    </tr>\n    <tr>\n      <th>4</th>\n      <td>4</td>\n      <td>https://gradesfixer.com/free-essay-examples/en...</td>\n      <td>172</td>\n    </tr>\n    <tr>\n      <th>5</th>\n      <td>5</td>\n      <td>https://gradesfixer.com/free-essay-examples/en...</td>\n      <td>67</td>\n    </tr>\n    <tr>\n      <th>6</th>\n      <td>6</td>\n      <td>https://gradesfixer.com/free-essay-examples/go...</td>\n      <td>96</td>\n    </tr>\n    <tr>\n      <th>7</th>\n      <td>7</td>\n      <td>https://gradesfixer.com/free-essay-examples/he...</td>\n      <td>195</td>\n    </tr>\n    <tr>\n      <th>8</th>\n      <td>8</td>\n      <td>https://gradesfixer.com/free-essay-examples/hi...</td>\n      <td>145</td>\n    </tr>\n    <tr>\n      <th>9</th>\n      <td>9</td>\n      <td>https://gradesfixer.com/free-essay-examples/in...</td>\n      <td>108</td>\n    </tr>\n    <tr>\n      <th>10</th>\n      <td>10</td>\n      <td>https://gradesfixer.com/free-essay-examples/law/</td>\n      <td>102</td>\n    </tr>\n    <tr>\n      <th>11</th>\n      <td>11</td>\n      <td>https://gradesfixer.com/free-essay-examples/life/</td>\n      <td>398</td>\n    </tr>\n    <tr>\n      <th>12</th>\n      <td>12</td>\n      <td>https://gradesfixer.com/free-essay-examples/li...</td>\n      <td>672</td>\n    </tr>\n    <tr>\n      <th>13</th>\n      <td>13</td>\n      <td>https://gradesfixer.com/free-essay-examples/ph...</td>\n      <td>78</td>\n    </tr>\n    <tr>\n      <th>14</th>\n      <td>14</td>\n      <td>https://gradesfixer.com/free-essay-examples/ps...</td>\n      <td>75</td>\n    </tr>\n    <tr>\n      <th>15</th>\n      <td>15</td>\n      <td>https://gradesfixer.com/free-essay-examples/re...</td>\n      <td>52</td>\n    </tr>\n    <tr>\n      <th>16</th>\n      <td>16</td>\n      <td>https://gradesfixer.com/free-essay-examples/sc...</td>\n      <td>141</td>\n    </tr>\n    <tr>\n      <th>17</th>\n      <td>17</td>\n      <td>https://gradesfixer.com/free-essay-examples/so...</td>\n      <td>166</td>\n    </tr>\n    <tr>\n      <th>18</th>\n      <td>18</td>\n      <td>https://gradesfixer.com/free-essay-examples/so...</td>\n      <td>206</td>\n    </tr>\n    <tr>\n      <th>19</th>\n      <td>19</td>\n      <td>https://gradesfixer.com/free-essay-examples/war/</td>\n      <td>23</td>\n    </tr>\n    <tr>\n      <th>20</th>\n      <td>20</td>\n      <td>https://gradesfixer.com/free-essay-examples/wo...</td>\n      <td>123</td>\n    </tr>\n  </tbody>\n</table>\n</div>"
     },
     "execution_count": 5,
     "metadata": {},
     "output_type": "execute_result"
    }
   ],
   "source": [
    "pages_numbers_l = []\n",
    "\n",
    "for url_cat in df_category['url']:\n",
    "    page = requests.get(url_cat)\n",
    "    soup = BeautifulSoup(page.text, 'html')\n",
    "\n",
    "    pages_numbers_l.append(int(soup.find_all(class_='page-numbers')[3].text))\n",
    "\n",
    "df_category['pages'] = pages_numbers_l\n",
    "df_category"
   ],
   "metadata": {
    "collapsed": false,
    "ExecuteTime": {
     "end_time": "2023-12-17T18:25:12.721232400Z",
     "start_time": "2023-12-17T18:24:56.942075600Z"
    }
   }
  },
  {
   "cell_type": "code",
   "execution_count": 6,
   "outputs": [
    {
     "data": {
      "text/plain": "      FK_category                                                url\n0               0  https://gradesfixer.com/free-essay-examples/ar...\n1               0  https://gradesfixer.com/free-essay-examples/ar...\n2               0  https://gradesfixer.com/free-essay-examples/ar...\n3               0  https://gradesfixer.com/free-essay-examples/ar...\n4               0  https://gradesfixer.com/free-essay-examples/ar...\n...           ...                                                ...\n3256           20  https://gradesfixer.com/free-essay-examples/wo...\n3257           20  https://gradesfixer.com/free-essay-examples/wo...\n3258           20  https://gradesfixer.com/free-essay-examples/wo...\n3259           20  https://gradesfixer.com/free-essay-examples/wo...\n3260           20  https://gradesfixer.com/free-essay-examples/wo...\n\n[3261 rows x 2 columns]",
      "text/html": "<div>\n<style scoped>\n    .dataframe tbody tr th:only-of-type {\n        vertical-align: middle;\n    }\n\n    .dataframe tbody tr th {\n        vertical-align: top;\n    }\n\n    .dataframe thead th {\n        text-align: right;\n    }\n</style>\n<table border=\"1\" class=\"dataframe\">\n  <thead>\n    <tr style=\"text-align: right;\">\n      <th></th>\n      <th>FK_category</th>\n      <th>url</th>\n    </tr>\n  </thead>\n  <tbody>\n    <tr>\n      <th>0</th>\n      <td>0</td>\n      <td>https://gradesfixer.com/free-essay-examples/ar...</td>\n    </tr>\n    <tr>\n      <th>1</th>\n      <td>0</td>\n      <td>https://gradesfixer.com/free-essay-examples/ar...</td>\n    </tr>\n    <tr>\n      <th>2</th>\n      <td>0</td>\n      <td>https://gradesfixer.com/free-essay-examples/ar...</td>\n    </tr>\n    <tr>\n      <th>3</th>\n      <td>0</td>\n      <td>https://gradesfixer.com/free-essay-examples/ar...</td>\n    </tr>\n    <tr>\n      <th>4</th>\n      <td>0</td>\n      <td>https://gradesfixer.com/free-essay-examples/ar...</td>\n    </tr>\n    <tr>\n      <th>...</th>\n      <td>...</td>\n      <td>...</td>\n    </tr>\n    <tr>\n      <th>3256</th>\n      <td>20</td>\n      <td>https://gradesfixer.com/free-essay-examples/wo...</td>\n    </tr>\n    <tr>\n      <th>3257</th>\n      <td>20</td>\n      <td>https://gradesfixer.com/free-essay-examples/wo...</td>\n    </tr>\n    <tr>\n      <th>3258</th>\n      <td>20</td>\n      <td>https://gradesfixer.com/free-essay-examples/wo...</td>\n    </tr>\n    <tr>\n      <th>3259</th>\n      <td>20</td>\n      <td>https://gradesfixer.com/free-essay-examples/wo...</td>\n    </tr>\n    <tr>\n      <th>3260</th>\n      <td>20</td>\n      <td>https://gradesfixer.com/free-essay-examples/wo...</td>\n    </tr>\n  </tbody>\n</table>\n<p>3261 rows × 2 columns</p>\n</div>"
     },
     "execution_count": 6,
     "metadata": {},
     "output_type": "execute_result"
    }
   ],
   "source": [
    "pages_dict = {'FK_category':[], 'url': []}\n",
    "\n",
    "for index in df_category.index:\n",
    "    url = df_category.loc[index, 'url']\n",
    "    pages = df_category.loc[index, 'pages']\n",
    "\n",
    "    pages_dict['FK_category'] += [index]*pages\n",
    "    pages_dict['url'] += [f\"{url}page/{i}\" for i in range(pages)]\n",
    "\n",
    "pages_df = pd.DataFrame(pages_dict)\n",
    "pages_df"
   ],
   "metadata": {
    "collapsed": false,
    "ExecuteTime": {
     "end_time": "2023-12-17T18:25:12.815658900Z",
     "start_time": "2023-12-17T18:25:12.733756Z"
    }
   }
  },
  {
   "cell_type": "code",
   "execution_count": 7,
   "outputs": [
    {
     "data": {
      "text/plain": "      FK_page                                                url\n0        2924  https://gradesfixer.com/free-essay-examples/be...\n1        2924  https://gradesfixer.com/free-essay-examples/ph...\n2        2924  https://gradesfixer.com/free-essay-examples/ob...\n3        2924  https://gradesfixer.com/free-essay-examples/re...\n4        2924  https://gradesfixer.com/free-essay-examples/sh...\n...       ...                                                ...\n7587     1774  https://gradesfixer.com/free-essay-examples/at...\n7588     1774  https://gradesfixer.com/free-essay-examples/mo...\n7589     1774  https://gradesfixer.com/free-essay-examples/im...\n7590     1774  https://gradesfixer.com/free-essay-examples/th...\n7591     1774  https://gradesfixer.com/free-essay-examples/an...\n\n[7592 rows x 2 columns]",
      "text/html": "<div>\n<style scoped>\n    .dataframe tbody tr th:only-of-type {\n        vertical-align: middle;\n    }\n\n    .dataframe tbody tr th {\n        vertical-align: top;\n    }\n\n    .dataframe thead th {\n        text-align: right;\n    }\n</style>\n<table border=\"1\" class=\"dataframe\">\n  <thead>\n    <tr style=\"text-align: right;\">\n      <th></th>\n      <th>FK_page</th>\n      <th>url</th>\n    </tr>\n  </thead>\n  <tbody>\n    <tr>\n      <th>0</th>\n      <td>2924</td>\n      <td>https://gradesfixer.com/free-essay-examples/be...</td>\n    </tr>\n    <tr>\n      <th>1</th>\n      <td>2924</td>\n      <td>https://gradesfixer.com/free-essay-examples/ph...</td>\n    </tr>\n    <tr>\n      <th>2</th>\n      <td>2924</td>\n      <td>https://gradesfixer.com/free-essay-examples/ob...</td>\n    </tr>\n    <tr>\n      <th>3</th>\n      <td>2924</td>\n      <td>https://gradesfixer.com/free-essay-examples/re...</td>\n    </tr>\n    <tr>\n      <th>4</th>\n      <td>2924</td>\n      <td>https://gradesfixer.com/free-essay-examples/sh...</td>\n    </tr>\n    <tr>\n      <th>...</th>\n      <td>...</td>\n      <td>...</td>\n    </tr>\n    <tr>\n      <th>7587</th>\n      <td>1774</td>\n      <td>https://gradesfixer.com/free-essay-examples/at...</td>\n    </tr>\n    <tr>\n      <th>7588</th>\n      <td>1774</td>\n      <td>https://gradesfixer.com/free-essay-examples/mo...</td>\n    </tr>\n    <tr>\n      <th>7589</th>\n      <td>1774</td>\n      <td>https://gradesfixer.com/free-essay-examples/im...</td>\n    </tr>\n    <tr>\n      <th>7590</th>\n      <td>1774</td>\n      <td>https://gradesfixer.com/free-essay-examples/th...</td>\n    </tr>\n    <tr>\n      <th>7591</th>\n      <td>1774</td>\n      <td>https://gradesfixer.com/free-essay-examples/an...</td>\n    </tr>\n  </tbody>\n</table>\n<p>7592 rows × 2 columns</p>\n</div>"
     },
     "execution_count": 7,
     "metadata": {},
     "output_type": "execute_result"
    }
   ],
   "source": [
    "essays_df_dict = {'FK_page': [], \"url\": []}\n",
    "\n",
    "n_samples = 400\n",
    "\n",
    "for index in pages_df.sample(n_samples).index:\n",
    "    url_page = pages_df.loc[index, 'url']\n",
    "    page = requests.get(url_page)\n",
    "    soup = BeautifulSoup(page.text, 'html')\n",
    "\n",
    "    articles = soup.find_all('article', class_='loop-10 related-essay-item')\n",
    "\n",
    "    for article in articles:\n",
    "        essays_df_dict['FK_page'] += [index]\n",
    "        essays_df_dict['url'] += [article.find('h2').find('a')['href']]\n",
    "\n",
    "essays_df = pd.DataFrame(essays_df_dict)\n",
    "essays_df"
   ],
   "metadata": {
    "collapsed": false,
    "ExecuteTime": {
     "end_time": "2023-12-17T18:45:54.768105700Z",
     "start_time": "2023-12-17T18:25:12.766555Z"
    }
   }
  },
  {
   "cell_type": "code",
   "execution_count": 8,
   "outputs": [
    {
     "data": {
      "text/plain": "      FK_page                                                url  \\\n0        2924  https://gradesfixer.com/free-essay-examples/be...   \n1        2924  https://gradesfixer.com/free-essay-examples/ph...   \n2        2924  https://gradesfixer.com/free-essay-examples/ob...   \n3        2924  https://gradesfixer.com/free-essay-examples/re...   \n4        2924  https://gradesfixer.com/free-essay-examples/sh...   \n...       ...                                                ...   \n7587     1774  https://gradesfixer.com/free-essay-examples/at...   \n7588     1774  https://gradesfixer.com/free-essay-examples/mo...   \n7589     1774  https://gradesfixer.com/free-essay-examples/im...   \n7590     1774  https://gradesfixer.com/free-essay-examples/th...   \n7591     1774  https://gradesfixer.com/free-essay-examples/an...   \n\n                                                   text  \n0     Being part of a team is a transformative exper...  \n1     Physical appearance and personality are two in...  \n2     As human beings, we are woven from a multitude...  \n3     Cultural competence, a concept of paramount si...  \n4     The influence of celebrities in shaping public...  \n...                                                 ...  \n7587  Margaret Atwood’s novel, “The Handmaid’s Tale”...  \n7588  In harsh circumstances, people try to hold ont...  \n7589  In the start of the novel, Little Women, the f...  \n7590  Louisa May Alcott’s best-known classic Little ...  \n7591  Little Women is a novel by American author Lou...  \n\n[7592 rows x 3 columns]",
      "text/html": "<div>\n<style scoped>\n    .dataframe tbody tr th:only-of-type {\n        vertical-align: middle;\n    }\n\n    .dataframe tbody tr th {\n        vertical-align: top;\n    }\n\n    .dataframe thead th {\n        text-align: right;\n    }\n</style>\n<table border=\"1\" class=\"dataframe\">\n  <thead>\n    <tr style=\"text-align: right;\">\n      <th></th>\n      <th>FK_page</th>\n      <th>url</th>\n      <th>text</th>\n    </tr>\n  </thead>\n  <tbody>\n    <tr>\n      <th>0</th>\n      <td>2924</td>\n      <td>https://gradesfixer.com/free-essay-examples/be...</td>\n      <td>Being part of a team is a transformative exper...</td>\n    </tr>\n    <tr>\n      <th>1</th>\n      <td>2924</td>\n      <td>https://gradesfixer.com/free-essay-examples/ph...</td>\n      <td>Physical appearance and personality are two in...</td>\n    </tr>\n    <tr>\n      <th>2</th>\n      <td>2924</td>\n      <td>https://gradesfixer.com/free-essay-examples/ob...</td>\n      <td>As human beings, we are woven from a multitude...</td>\n    </tr>\n    <tr>\n      <th>3</th>\n      <td>2924</td>\n      <td>https://gradesfixer.com/free-essay-examples/re...</td>\n      <td>Cultural competence, a concept of paramount si...</td>\n    </tr>\n    <tr>\n      <th>4</th>\n      <td>2924</td>\n      <td>https://gradesfixer.com/free-essay-examples/sh...</td>\n      <td>The influence of celebrities in shaping public...</td>\n    </tr>\n    <tr>\n      <th>...</th>\n      <td>...</td>\n      <td>...</td>\n      <td>...</td>\n    </tr>\n    <tr>\n      <th>7587</th>\n      <td>1774</td>\n      <td>https://gradesfixer.com/free-essay-examples/at...</td>\n      <td>Margaret Atwood’s novel, “The Handmaid’s Tale”...</td>\n    </tr>\n    <tr>\n      <th>7588</th>\n      <td>1774</td>\n      <td>https://gradesfixer.com/free-essay-examples/mo...</td>\n      <td>In harsh circumstances, people try to hold ont...</td>\n    </tr>\n    <tr>\n      <th>7589</th>\n      <td>1774</td>\n      <td>https://gradesfixer.com/free-essay-examples/im...</td>\n      <td>In the start of the novel, Little Women, the f...</td>\n    </tr>\n    <tr>\n      <th>7590</th>\n      <td>1774</td>\n      <td>https://gradesfixer.com/free-essay-examples/th...</td>\n      <td>Louisa May Alcott’s best-known classic Little ...</td>\n    </tr>\n    <tr>\n      <th>7591</th>\n      <td>1774</td>\n      <td>https://gradesfixer.com/free-essay-examples/an...</td>\n      <td>Little Women is a novel by American author Lou...</td>\n    </tr>\n  </tbody>\n</table>\n<p>7592 rows × 3 columns</p>\n</div>"
     },
     "execution_count": 8,
     "metadata": {},
     "output_type": "execute_result"
    }
   ],
   "source": [
    "texts_l = []\n",
    "\n",
    "for url in essays_df['url']:\n",
    "    page = requests.get(url)\n",
    "    soup = BeautifulSoup(page.text, 'html')\n",
    "\n",
    "    by_div_class = soup.find('div', class_='single-essay-item')\n",
    "    if by_div_class is None:\n",
    "        texts_l.append(None)\n",
    "        continue\n",
    "    by_div_class_p_l = by_div_class.find_all(['p'])#, 'h2'\n",
    "\n",
    "    result_text = ''\n",
    "    for text_peace in by_div_class_p_l:\n",
    "        if not text_peace.parent.has_key('class'): continue\n",
    "        elif text_peace.parent['class'][0] == 'single-essay-item':\n",
    "            text = text_peace.text\n",
    "\n",
    "            result_text += text\n",
    "            result_text += '\\n'\n",
    "\n",
    "    texts_l.append(result_text)\n",
    "\n",
    "    #time_to_wait = np.abs(np.random.normal(loc=0.1, scale=0.01))\n",
    "    #time.sleep(time_to_wait)\n",
    "\n",
    "essays_df['text'] = texts_l\n",
    "essays_df"
   ],
   "metadata": {
    "collapsed": false,
    "ExecuteTime": {
     "end_time": "2023-12-17T21:34:02.202753800Z",
     "start_time": "2023-12-17T18:45:54.769101600Z"
    }
   }
  },
  {
   "cell_type": "code",
   "execution_count": 9,
   "outputs": [
    {
     "data": {
      "text/plain": "7592"
     },
     "execution_count": 9,
     "metadata": {},
     "output_type": "execute_result"
    }
   ],
   "source": [
    "len(texts_l)"
   ],
   "metadata": {
    "collapsed": false,
    "ExecuteTime": {
     "end_time": "2023-12-17T21:34:02.211921700Z",
     "start_time": "2023-12-17T21:34:02.199744800Z"
    }
   }
  },
  {
   "cell_type": "code",
   "execution_count": 10,
   "outputs": [],
   "source": [
    "essays_df['text'].to_csv('human.csv', index=False)"
   ],
   "metadata": {
    "collapsed": false,
    "ExecuteTime": {
     "end_time": "2023-12-17T21:34:04.970328900Z",
     "start_time": "2023-12-17T21:34:02.222136400Z"
    }
   }
  },
  {
   "cell_type": "code",
   "execution_count": 11,
   "outputs": [
    {
     "data": {
      "text/plain": "7592"
     },
     "execution_count": 11,
     "metadata": {},
     "output_type": "execute_result"
    }
   ],
   "source": [
    "len(essays_df['text'])"
   ],
   "metadata": {
    "collapsed": false,
    "ExecuteTime": {
     "end_time": "2023-12-17T21:34:05.088447900Z",
     "start_time": "2023-12-17T21:34:04.980795200Z"
    }
   }
  },
  {
   "cell_type": "code",
   "execution_count": 12,
   "outputs": [
    {
     "name": "stdout",
     "output_type": "stream",
     "text": [
      "There is no one right way to design a level in Super Mario Maker. However, there are plenty of Tips and Tricks every would-be level designer should take into consideration - whether it’s your first time building a simple course, or you’re planning on making the most challenging stage possible.\n",
      "\n",
      "Doors vs. Pipes: Knowing when to use a door or a pipe is key to designing a good level. Doors can take you anywhere in the current level (You can have up to 4 sets of doors on a level). Pipes, on the other hand will take you to a sub-level (once you’ve unlocked sub-levels, that is). Place them wisely to send players all over the map, and use up empty space that would normally be out of reach. To create a pipe connection, just drag Mario into a pipe and then place the exit. To create a door, place the twin doors and then move one to a different location.\n",
      "\n",
      "Less is More: There is a finite amount of things you can place in a level. So don’t go nuts and be smart about what pieces you use where and when. But you can get more mileage by using pipes to connect to a sub-level. The sub-level can have its own theme (though you can’t switch to a different game version) and its own set of blocks and enemies.\n",
      "\n",
      "Testers Wanted: Never doubt the power of a little play-testing. Before uploading your creation online, consider letting friends or family try it out. You’ll often be amazed at how someone else interprets a level, and does things in ways you may least suspect. Having others try out your level is also a good way to find something worth tweaking you may have overlooked. Once online be sure to check out comments to see what others think!\n",
      "\n",
      "Checkpoints and Rewards: Take care when your level gets overly long. Long levels (especially difficult ones) tend to get frustrating unless you start rewarding the player with things like Power-Ups if you don’t add checkpoints. Remember to leave powerups after difficult or drawn out areas of your level.\n",
      "\n",
      "Learn Your Shortcuts: Like any application, learning how to do things quick in Mario Maker can save you a lot of time and hassle. You can use the shoulder and trigger buttons to copy or select areas, pressing both will let you erase without pressing the eraser button\n",
      "\n",
      "Think Before You Leap: It can be fun to just start placing enemies and traps all over the place - but it’s a smart idea to have a clear vision of where you want a player to go first. Think about constructing the skeleton of a stage first, and then going back to add enemies, traps, and other obstacles. Restrain yourself. More enemies don’t make a better level. Blind jumps are never fun for players, so make sure your level communicates that dangers lie ahead. You can, for example, mark a path with coins or arrows to remove the guess work. And I’ve seen a level with a blind jump with coins, but they lead right into spikes! Don’t do that!\n",
      "\n",
      "Why Erase When You Can Undo?: The Eraser tool is a great item for getting rid of mistakes - but its better used for clearing out things you may have placed a while back. Anything recent can be done with the Undo-Dog, and doesn’t require swapping between Erase Mode and back.\n",
      "\n",
      "The most important part of Super Mario Maker is the Tool Palette.\n",
      "\n",
      "The palette is divided into 6 rows of 12 items each, with the 6th row left blank for \"favorites\". Each row can be customized at any time letting you swap around items in the pallet to let you draw from a particular row when editing a level.\n",
      "\n",
      "The palette is made up of three types of items: Objects, Enemies, and Power-Ups. Many of these items have their own unique look depending on the type of Mario game you are editing in, and certain items can be shook when being placed to create new variations. Items in this palette often be combined or used together to create interesting and challenging combinations.\n",
      "\n",
      "New players will not be able to use every single item right out of the gate. Instead, Nintendo has opted to let players ease into the game by only unlocking certain items after time spent using the tools available. The only requirement is that you play around with the editor for around 5 minutes, and you will be notified that a new shipment of items will arrive shortly.\n",
      "\n",
      "On the first day you will only have access to the Brick Block, Question Mark Block, Block, Stone Block, Pipe, Super Mushroom, Coin, Trampoline, Goomba, Koopa, Piranha Plant, and Wings.\n",
      "\n",
      "After completing a tutorial, you will be able to create levels using the Super Mario Bros. and New Super Mario Bros U. styles, in both the Ground and Underground settings. After tinkering a bit more, you’ll also gain access to the larger menu - including the 10 Mario Challenge and online Course World.\n",
      "\n",
      "First Update\n",
      "\n",
      "The first new shipment of items will consist of the Secret Mushroom/Cape Feather/Super Leaf/Propeller Hat, Lakitu, Spiny, Moving Platform, Fire Flower, Super Star, and 1-Up Mushroom.\n",
      "\n",
      "Second Update\n",
      "\n",
      "The second shipment will bring the Bill Blaster, Blooper, Cheep Cheep, Spikes, and Semi-Flat Platform. This will also come with the ability to create Underwater levels.\n",
      "\n",
      "Third Update\n",
      "\n",
      "The third shipment can arrive bearing the Hammer Bros., Buzzy Beetle, Thwomp, Lava Bubble, Bowser, Note Block, Skull Platform, and Fire Bar. This comes with the ability to create Castle style levels too.\n",
      "\n",
      "Shortly after getting the new items, you’ll also be able to toggle Mario’s trail on and off.\n",
      "\n",
      "Fourth Update\n",
      "\n",
      "The fourth shipment will contain the Rocky Wrench, Bob-omb, Donut Block, POW Block, Cloud Block, Fire Jet, Cannon, and Bridge. This will come with the ability to use the Super Mario Bros. 3 style, as well as the Airship level theme.\n",
      "\n",
      "Shortly after tinkering around on this day, you’ll also get the ability to change the timer and auto-scroll settings for the level.\n",
      "\n",
      "Fifth Update\n",
      "\n",
      "The fifth shipment of items can arrive including the Spike Top, Boo, Dry Bones, Magikoopa, Hidden Block, Vine, P Switch, and Door. This also comes with the addition of the Super Mario World style, and the Ghost House level theme.\n",
      "\n",
      "Note that with all 4 styles, you can now use the Secret Mushroom / Super Leaf / Cape Feather / Propeller Hat in their respective styles.\n",
      "\n",
      "Sixth Update\n",
      "\n",
      "The sixth shipment will contain the Muncher, Wiggler, Yoshi/Kuribo’s Shoe, Clown Car, Mushroom Platform, and Arrow Sign.\n",
      "\n",
      "Note that you will also gain access to the Sound Effects Editor.\n",
      "\n",
      "Seventh Update\n",
      "\n",
      "The seventh shipment of items will bring the Track, Conveyor Belt, and Grinder.\n",
      "\n",
      "Final Update\n",
      "\n",
      "The final shipment will bring the last three items: Chain Chomp, Ice Block, and the One Way Tile.This final shipment will also include the ability to use sub-levels in your creations. Simply drop Mario into a pipe to create a lower level.\n",
      "\n",
      "Mario Maker features a large pool of Objects to choose from. Drag and drop these items from the top of the menu bar into the level to add them instantly. The objects that were shown in the E3 2014 trailer include:\n",
      "\n",
      "The 100 Mario Challenge is a game mode for Super Mario Maker that allows players to take on an assortment of levels pulled from all over the world. You will have just 100 lives to complete a large assortment levels, all of which are taken from the online courses uploaded from other users.\n",
      "\n",
      "Note that this mode is only available to play when you are connected to the internet. If you are not connected to the internet, you can sample of some of Nintendo’s courses playing the 10 Mario Challenge.\n",
      "\n",
      "When playing 100 Mario Challenge, a player’s coin total will carry over between levels, and they will have the opportunity to earn a maximum of three 1-UPs per level - which will only take effect if the player can beat the level.\n",
      "\n",
      "A level must be replayed until it can be beaten in order to proceed. If a player cannot beat a level, they can \"skip\" the current stage, swapping it out for a new user-created level. This does not cost any lives, but you will not proceed either.\n",
      "\n",
      "There are two difficulties, Easy and Normal, which are curated by Nintendo based on the ratio of clears to failure by players, in order to rank the difficulty of the submitted level. Playing on Easy will require you to complete 8 levels in 100 lives, while Normal mode will challenge you to beat 16 levels. Once 100 Mario Challenge has been completed the first time, a new harder difficulty mode will be made available.\n",
      "\n",
      "Players who beat 100 Mario Challenge will be rewarded with a random Mystery Mushroom Costume to use in level creation. This costume can be based off an Amiibo or a costume not related to any current Amiibo.\n",
      "\n",
      "The 10 Mario Challenge is a game mode for Super Mario Maker that allows players to take on an assortment of levels pulled from all over the world. You will have just 10 lives to complete a total of 6 levels, all of which are taken from the online courses uploaded from other users, or from Nintendo’s own stock of levels located within the game itself.\n",
      "\n",
      "Note that unlike 100 Mario Challenge, this mode is available to play both online and offline. If you are not connected to the internet, you can only play from Nintendo’s levels.\n",
      "\n",
      "When playing 10 Mario Challenge, a player’s coin total will carry over between levels, and they will have the opportunity to earn a maximum of three 1-UPs per level (to a max of 10 lives) - which will only take effect if the player can beat the level.\n",
      "\n",
      "A level must be replayed until it can be beaten in order to proceed. If a player cannot beat a level, they can \"skip\" the current stage, swapping it out for a new user-created level. This does not cost any lives, but you will not proceed either.\n",
      "\n",
      "There are two difficulties, Easy and Normal, which are presumably curated by Nintendo to rank the difficulty of the submitted level.\n",
      "\n",
      "The Mystery Mushroom’s purpose is to change Mario into another character through use of costumes. Once unlocked - a costume can be selected by tapping on the Mushroom, or you can have it select a costume at random.\n",
      "\n",
      "Costumes act much like a power-up in that taking damage in costume will only cause Mario to lose his costume. They do not increase his height at all - even if a costume appears larger than Mario traditionally is. The only thing a costume changes is purely visual and audio - as several costumes come with their own unique sounds when jumping, taunting (pressing up), and either falling into a pit or clearing a level.\n",
      "\n",
      "At the start, there will be a few costumes already unlocked - such as the Goomba, Trampoline, and Question Block. Further costumes can either be unlocked through use of Amiibo Functionality, or as a reward for completing the 100 Mario Challenge online. Note that after obtaining around 60 costumes, the rest must be earned by completing the 100 Mario Challenge on a higher difficulty.\n",
      "\n",
      "Also Note that there are several costumes that do not relate to any Amiibo, and cannot be unlocked by any Amiibo. Furthermore, a player can use a costume they have not unlocked if another player’s uploaded level has that costume. If you download that level, any costumes you do not have will not transfer over to you.\n",
      "\n",
      "With a game like Super Mario Maker, the history of Mario is on display, and many secrets, Easter eggs and more are just waiting to be found in the game.\n",
      "\n",
      "Unlock The 8-Bit Mario Amiibo’s CRT Vision With a CodeUsing the 30th Anniversary Mario Amiibo will trigger a mega mushroom powerup that changes several things on the screen, most notably a old-timey filter that replicated a CRT televesion screen. However, you can trigger this effect without the Amiibo. When on the loading screen for any level (not just Super Mario Bros. style levels) hold down on the D-pad, as well as the A and B Buttons to turn the effect on. You can turn it off the same way.\n",
      "\n",
      "New players will not be able to use every single item right out of the gate. Instead, Nintendo has opted to let players ease into the game by only unlocking certain items after time spent using the tools available. The only requirement is that you play around with the editor for around 5 minutes, and you will be notified that a new shipment of items will arrive shortly.\n",
      "\n",
      "When the title for the game appears along with the background for a sample stage (which you can take control of and play at any time!) The title itself can be interacted with much like Mario Paint.\n",
      "\n",
      "Tap the \"Super\" part of the title to hear a crowd shout out the title, along with the bunch of Super Stars that will burst out.\n",
      "\n",
      "Tap the \"M\" in Mario to change it to a W. Wario will call out in appreciation and give you a Wario costume! (Not for keeps, though and only in SMB theme.)Tap the \"A\" in Mario to summon a bright and fantastic shower of falling stars. Not only does it look nice, but it will destroy any enemies wandering around.\n",
      "\n",
      "Tap the \"R\" in Mario to stretch the letter out, spilling out a horde of coins in the process.\n",
      "\n",
      "Tap the \"I\" in Mario to call in a parrot, who is used in the Sound Effects editor.\n",
      "\n",
      "Tap the \"O\" in Mario to summon a Koopa Clown Car.\n",
      "\n",
      "Tap the \"M\" in Maker to drop a Buzzy Beetle Shell down. If it lands on Mario, he’ll wear it as a helmet!\n",
      "\n",
      "Tap the \"A\" in Maker to initiate a countdown, before the A blasts off into space.\n",
      "\n",
      "Tap the \"K\" in Maker to turn on an old-timey filter, rendering the title screen in sepia with retro music to boot.Tap the \"E\" in Maker to drop down a trampoline.\n",
      "\n",
      "Tap the \"R\" in Maker to stretch out the R, which will spit out a Kuribo’s Shoe in the process. If the the title screen is in the Super Mario World or New Super Mario Bros. U style, it will release a Yoshi egg.\n",
      "\n",
      "Tap anywhere else on the screen to summon a random enemy - much like the Magikoopa’s attack. Hold down and drag to show off the magic effects.\n",
      "\n",
      "A throwback to Mario Paint has returned in the form of the Fly Swatter game. At a random point when creating levels, you may notice 3 flies buzzing around the screen. Hitting all of them on the gamepad will trigger the mini-game to begin. Unlike the previous version of Fly Swatter, this mini-game utilized the touch screen to swat flies, and has a very limited timeframe, rather than using lives. If you complete the minigame the first time, you will unlock Builder Mario. Additional playthroughs do not seem to unlock further costumes.\n",
      "\n",
      "You can change the image of the hand on your TV screen while placing items simply by pressing in on the right or left control stick. Depending on which side you press, you can choose to either have it show a right or left hand. You can also cycle between different skin colors, or even animal paws!\n",
      "\n",
      "When playing 10 Mario Challenge or 100 Mario Challenge, if you beat the final level while wearing a costume, it may have an effect on the dialogue when meeting Toad or the Princess. For instance, Toad will panic if you are wearing the Bowser costume, while Peach will be surprised Bowser saved her himself. If you’re wearing the Toad Costume, Toad will refer to you as Captain. Tall Mario At any point when playing levels (either your own, sample levels, or even community levels) you may come across a tall skinny looking Super Mushroom in place of a normal one. This will transform Mario into a very odd looking tall and skinny version of Super Mario, complete with odd sound effects and wiggling legs when running and jumping. Creepy.\n",
      "\n",
      "If you manage to beat all the Nintendo World Championship Levels, you’ll be able to place the Skinny Mushroom at will!\n",
      "\n",
      "If you’d like to try your hand at the four courses made specifically for the 2015 Nintendo World Championships, you can unlock them yourself. To do so, keep playing and completing 10 Mario Challenge. Each time you beat it, the 8 courses you played will be added to your Coursebot. Once you’ve unlocked everything but the last row on the Coursebot, you’ll be rewarded with the 4 championship courses!\n",
      "\n",
      "If you find a Shell Helmet, but it is lying on the ground in Super Mario World or New Super Mario Wii-U Theme, you can simply pick the helmet up and duck and it will go on your head. However, if Mario is not small in the Super Mario Bros. 3 style, the player can put the helmet on as aforementioned.\n",
      "\n",
      "Hidden Videos In Digital Instruction ManualIn the Digital Instruction Manual, you can enter a variety of four digit codes that will prompt a video. Many of these four digit codes can be found in the booklet that accompanied physical copies of Super Mario Maker. This booklet could also be viewed via PDF format online for those who purchased a digital copy of the game via Nintendo’s Wii U eShop. Physical copies of the booklet could also be obtained by contacting Nintendo by telephone and requesting a physical copy of the book after verifying that you in fact did purchase a digital copy of the game via the Nintendo Network ID (NNID).However, there are a few codes worth pointing out that aren’t actually gameplay footage. By entering the code 0913, you can watch a video of Koji Kondo (Super Mario Bros. musical composer) playing a medley of music from Super Mario Bros. on an electric piano. By entering the code 1309, you can watch a video in which both Tezuka and Miyamoto sign their autographs on large white cards. These signatures can also be found at the back of the aforementioned booklet. The numbers 0913 and 1309 have significance as the original Super Mario Bros. was released on September (9th month) 13, 1985.\n",
      "\n",
      "Super Mario Maker lets you favorite builders to keep track of every level they upload. However, there is no option to filter your Wii U’s friends list, so you’ll need to get one of their course IDs before you can favorite them. Since it can be hard to find a level your friend has created without them telling you the code specifically, there is an easy workaround to find their levels and add them to your favorites list.\n",
      "\n",
      "When anyone creates a level, it is automatically posted to the Miverse. You can find these through the following steps:\n",
      "\n",
      "In Edit mode, place a door and tap on it with your stylus. You should hear a knock in response, from the other side. Listen for the number of knocks, then reply with the same number. The process should repeat a few times, and as long as you continue responding correctly for long enough, you eventually will see the door open and a character will appear.\n",
      "\n",
      "Find the Nintendo World Championship Levels and clear all of them. From there, head to the Level Creator mode. You’ll find that you can now shake the original mushroom to produce the skinny mushroom on demand.\n",
      "\n",
      "If Mario and Thwomp repeatedly fall into the same bottomless pit at nearly the same time (it seems to work best when Thwomp just barely takes the dive first), a series of weird sound effects follows and lasts around 27 seconds. The sound effects won’t play in Edit mode.\n",
      "\n",
      "If you clear the final level in 10 Mario Challenge or 100 Mario Challenge, you’ll meet up with Toad or the Princess. If you are dressed in certain costumes, you’ll get individualized responses. Toad stresses out if you rescue him as Bowser, but Peach is merely bemused. Wear the Toad costume while rescuing Toad and you’ll be greeted as \"Captain.\"\n",
      "\n",
      "Normally, you’ll need to use Mario’s 30th Anniversary Edition amibo if you want to play the game with a special effect applies that causes the game to look as if it is being played on an old CRT television. However, you can also activate the effect by holding DOWN on the d-pad while a level is loading and pressing A+B. If you did it properly, the effect will take place. You can disable the effect the next time you load a new level, in the same manner.\n",
      "\n",
      "In the old Super Nintendo classic, Mario Paint, it was possible to play a Fly Swatter mini-game. You can play it in Super Mario Maker, as well. As you create levels, you will eventually see a group of three flies buzzing around on the screen. If you tap them all on the gamepad, you’ll initiate the Fly Swatter mini-game. It has changed a bit, but should still be familiar.\n",
      "\n",
      "At the 2015 Nintendo World Championships, in advance of the game’s release, four championship players were made available to participants. Those are available in the retail version of Super Mario Maker, as well. To access them, play and complete 10 Mario Challenge courses to unlock courses within your Coursebot. Once you unlock everything but the last row, you’ll gain access to the 4 championship courses.\n",
      "\n",
      "Once the game’s title appears with a sample stage background, you can interact with various parts of the screen to produce interesting effects, or tap a general spot on the screen to summon a random enemy.\n",
      "\n",
      "Tap the \"Super\" part of the title and a crowd shouts out the title while Super Stars appear\n",
      "\n",
      "Tap the \"M\" in \"Mario\" to change it to a \"W\" and get thanks from Wario\n",
      "\n",
      "Tap the \"A\" in \"Mario\" to trigger a shower of stars\n",
      "\n",
      "Tap the \"R\" in \"Mario\" to stretch it and reveal a bunch of coins\n",
      "\n",
      "Tap the \"I\" in \"Mario\" to summon a parrot, used in the Sound Effects editor\n",
      "\n",
      "Tap the \"O\" in \"Mario\" to summon a Koopa Clown Car\n",
      "\n",
      "Tap the \"M\" in \"Maker\" to drop a Buzzy Beetle shell\n",
      "\n",
      "Tap the \"A\" in \"Maker\" to start a countdown before the letter blasts into space\n",
      "\n",
      "Tap the \"K\" in \"Maker\" to give the screen a new/old look and music\n",
      "\n",
      "Tap the \"E\" in \"Maker\" to drop a trampoline\n",
      "\n",
      "Tap the \"R\" in \"Maker\" to stretch out the letter and produce a Kuribo’s Shoe.\n",
      "\n",
      "When you grab and shake objects as you are building your course, they will respond in different ways, depending on the object. For example, the Goombas will shrink and fly off the screen, and the Koopa enemy will turn colors. Let go of the wings and they will fly away.\n",
      "\n",
      "\n"
     ]
    }
   ],
   "source": [
    "print(essays_df['text'].sample().iloc[0])"
   ],
   "metadata": {
    "collapsed": false,
    "ExecuteTime": {
     "end_time": "2023-12-17T21:34:05.165520800Z",
     "start_time": "2023-12-17T21:34:05.011973Z"
    }
   }
  },
  {
   "cell_type": "code",
   "execution_count": 12,
   "outputs": [],
   "source": [],
   "metadata": {
    "collapsed": false,
    "ExecuteTime": {
     "end_time": "2023-12-17T21:34:05.181094500Z",
     "start_time": "2023-12-17T21:34:05.065426700Z"
    }
   }
  }
 ],
 "metadata": {
  "kernelspec": {
   "display_name": "Python 3",
   "language": "python",
   "name": "python3"
  },
  "language_info": {
   "codemirror_mode": {
    "name": "ipython",
    "version": 2
   },
   "file_extension": ".py",
   "mimetype": "text/x-python",
   "name": "python",
   "nbconvert_exporter": "python",
   "pygments_lexer": "ipython2",
   "version": "2.7.6"
  }
 },
 "nbformat": 4,
 "nbformat_minor": 5
}
