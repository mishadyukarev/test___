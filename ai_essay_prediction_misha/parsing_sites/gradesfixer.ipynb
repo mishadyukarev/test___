{
 "cells": [
  {
   "cell_type": "code",
   "execution_count": 1,
   "outputs": [],
   "source": [
    "# Importing needed libraries:\n",
    "\n",
    "import pandas as pd\n",
    "from bs4 import BeautifulSoup\n",
    "import requests"
   ],
   "metadata": {
    "collapsed": false
   },
   "id": "aabc17a7a4a4578"
  },
  {
   "cell_type": "code",
   "execution_count": 2,
   "outputs": [],
   "source": [
    "# Needed url of site:\n",
    "\n",
    "url = \"https://gradesfixer.com\""
   ],
   "metadata": {
    "collapsed": false,
    "ExecuteTime": {
     "end_time": "2024-01-31T11:40:36.199634400Z",
     "start_time": "2024-01-31T11:40:36.190642200Z"
    }
   }
  },
  {
   "cell_type": "code",
   "execution_count": 19,
   "outputs": [],
   "source": [
    "# Getting html home page of the site:\n",
    "\n",
    "page = requests.get(url)\n",
    "soup = BeautifulSoup(page.text, 'html')"
   ],
   "metadata": {
    "collapsed": false,
    "ExecuteTime": {
     "end_time": "2024-01-31T11:52:55.747775900Z",
     "start_time": "2024-01-31T11:52:55.104426100Z"
    }
   }
  },
  {
   "cell_type": "code",
   "execution_count": 4,
   "outputs": [
    {
     "data": {
      "text/plain": "                   category                                                url\n0            Arts & Culture   https://gradesfixer.com/free-essay-examples/art/\n1                  Business  https://gradesfixer.com/free-essay-examples/bu...\n2                 Economics  https://gradesfixer.com/free-essay-examples/ec...\n3                 Education  https://gradesfixer.com/free-essay-examples/ed...\n4             Entertainment  https://gradesfixer.com/free-essay-examples/en...\n5               Environment  https://gradesfixer.com/free-essay-examples/en...\n6     Government & Politics  https://gradesfixer.com/free-essay-examples/go...\n7          Nursing & Health  https://gradesfixer.com/free-essay-examples/he...\n8                   History  https://gradesfixer.com/free-essay-examples/hi...\n9       Information Science  https://gradesfixer.com/free-essay-examples/in...\n10  Law, Crime & Punishment   https://gradesfixer.com/free-essay-examples/law/\n11                     Life  https://gradesfixer.com/free-essay-examples/life/\n12               Literature  https://gradesfixer.com/free-essay-examples/li...\n13               Philosophy  https://gradesfixer.com/free-essay-examples/ph...\n14               Psychology  https://gradesfixer.com/free-essay-examples/ps...\n15                 Religion  https://gradesfixer.com/free-essay-examples/re...\n16                  Science  https://gradesfixer.com/free-essay-examples/sc...\n17            Social Issues  https://gradesfixer.com/free-essay-examples/so...\n18                Sociology  https://gradesfixer.com/free-essay-examples/so...\n19                      War   https://gradesfixer.com/free-essay-examples/war/\n20       Geography & Travel  https://gradesfixer.com/free-essay-examples/wo...",
      "text/html": "<div>\n<style scoped>\n    .dataframe tbody tr th:only-of-type {\n        vertical-align: middle;\n    }\n\n    .dataframe tbody tr th {\n        vertical-align: top;\n    }\n\n    .dataframe thead th {\n        text-align: right;\n    }\n</style>\n<table border=\"1\" class=\"dataframe\">\n  <thead>\n    <tr style=\"text-align: right;\">\n      <th></th>\n      <th>category</th>\n      <th>url</th>\n    </tr>\n  </thead>\n  <tbody>\n    <tr>\n      <th>0</th>\n      <td>Arts &amp; Culture</td>\n      <td>https://gradesfixer.com/free-essay-examples/art/</td>\n    </tr>\n    <tr>\n      <th>1</th>\n      <td>Business</td>\n      <td>https://gradesfixer.com/free-essay-examples/bu...</td>\n    </tr>\n    <tr>\n      <th>2</th>\n      <td>Economics</td>\n      <td>https://gradesfixer.com/free-essay-examples/ec...</td>\n    </tr>\n    <tr>\n      <th>3</th>\n      <td>Education</td>\n      <td>https://gradesfixer.com/free-essay-examples/ed...</td>\n    </tr>\n    <tr>\n      <th>4</th>\n      <td>Entertainment</td>\n      <td>https://gradesfixer.com/free-essay-examples/en...</td>\n    </tr>\n    <tr>\n      <th>5</th>\n      <td>Environment</td>\n      <td>https://gradesfixer.com/free-essay-examples/en...</td>\n    </tr>\n    <tr>\n      <th>6</th>\n      <td>Government &amp; Politics</td>\n      <td>https://gradesfixer.com/free-essay-examples/go...</td>\n    </tr>\n    <tr>\n      <th>7</th>\n      <td>Nursing &amp; Health</td>\n      <td>https://gradesfixer.com/free-essay-examples/he...</td>\n    </tr>\n    <tr>\n      <th>8</th>\n      <td>History</td>\n      <td>https://gradesfixer.com/free-essay-examples/hi...</td>\n    </tr>\n    <tr>\n      <th>9</th>\n      <td>Information Science</td>\n      <td>https://gradesfixer.com/free-essay-examples/in...</td>\n    </tr>\n    <tr>\n      <th>10</th>\n      <td>Law, Crime &amp; Punishment</td>\n      <td>https://gradesfixer.com/free-essay-examples/law/</td>\n    </tr>\n    <tr>\n      <th>11</th>\n      <td>Life</td>\n      <td>https://gradesfixer.com/free-essay-examples/life/</td>\n    </tr>\n    <tr>\n      <th>12</th>\n      <td>Literature</td>\n      <td>https://gradesfixer.com/free-essay-examples/li...</td>\n    </tr>\n    <tr>\n      <th>13</th>\n      <td>Philosophy</td>\n      <td>https://gradesfixer.com/free-essay-examples/ph...</td>\n    </tr>\n    <tr>\n      <th>14</th>\n      <td>Psychology</td>\n      <td>https://gradesfixer.com/free-essay-examples/ps...</td>\n    </tr>\n    <tr>\n      <th>15</th>\n      <td>Religion</td>\n      <td>https://gradesfixer.com/free-essay-examples/re...</td>\n    </tr>\n    <tr>\n      <th>16</th>\n      <td>Science</td>\n      <td>https://gradesfixer.com/free-essay-examples/sc...</td>\n    </tr>\n    <tr>\n      <th>17</th>\n      <td>Social Issues</td>\n      <td>https://gradesfixer.com/free-essay-examples/so...</td>\n    </tr>\n    <tr>\n      <th>18</th>\n      <td>Sociology</td>\n      <td>https://gradesfixer.com/free-essay-examples/so...</td>\n    </tr>\n    <tr>\n      <th>19</th>\n      <td>War</td>\n      <td>https://gradesfixer.com/free-essay-examples/war/</td>\n    </tr>\n    <tr>\n      <th>20</th>\n      <td>Geography &amp; Travel</td>\n      <td>https://gradesfixer.com/free-essay-examples/wo...</td>\n    </tr>\n  </tbody>\n</table>\n</div>"
     },
     "execution_count": 4,
     "metadata": {},
     "output_type": "execute_result"
    }
   ],
   "source": [
    "# Getting references of different categories:\n",
    "\n",
    "df_category = pd.DataFrame()\n",
    "\n",
    "categorical_urls =  [value['href'] for value in soup.find('li').find_all('a')]\n",
    "categorical_urls = categorical_urls[:-1]\n",
    "\n",
    "df_category['category'] = soup.find('li').text.split('\\n')[2:][:-3]\n",
    "df_category['url'] = categorical_urls\n",
    "df_category"
   ],
   "metadata": {
    "collapsed": false,
    "ExecuteTime": {
     "end_time": "2024-01-31T11:40:48.387767500Z",
     "start_time": "2024-01-31T11:40:48.361691300Z"
    }
   }
  },
  {
   "cell_type": "code",
   "execution_count": 5,
   "outputs": [
    {
     "data": {
      "text/plain": "                   category  \\\n0            Arts & Culture   \n1                  Business   \n2                 Economics   \n3                 Education   \n4             Entertainment   \n5               Environment   \n6     Government & Politics   \n7          Nursing & Health   \n8                   History   \n9       Information Science   \n10  Law, Crime & Punishment   \n11                     Life   \n12               Literature   \n13               Philosophy   \n14               Psychology   \n15                 Religion   \n16                  Science   \n17            Social Issues   \n18                Sociology   \n19                      War   \n20       Geography & Travel   \n\n                                                  url  pages  \n0    https://gradesfixer.com/free-essay-examples/art/     81  \n1   https://gradesfixer.com/free-essay-examples/bu...    162  \n2   https://gradesfixer.com/free-essay-examples/ec...     88  \n3   https://gradesfixer.com/free-essay-examples/ed...    119  \n4   https://gradesfixer.com/free-essay-examples/en...    174  \n5   https://gradesfixer.com/free-essay-examples/en...     68  \n6   https://gradesfixer.com/free-essay-examples/go...     97  \n7   https://gradesfixer.com/free-essay-examples/he...    199  \n8   https://gradesfixer.com/free-essay-examples/hi...    148  \n9   https://gradesfixer.com/free-essay-examples/in...    109  \n10   https://gradesfixer.com/free-essay-examples/law/    103  \n11  https://gradesfixer.com/free-essay-examples/life/    403  \n12  https://gradesfixer.com/free-essay-examples/li...    680  \n13  https://gradesfixer.com/free-essay-examples/ph...     78  \n14  https://gradesfixer.com/free-essay-examples/ps...     76  \n15  https://gradesfixer.com/free-essay-examples/re...     53  \n16  https://gradesfixer.com/free-essay-examples/sc...    144  \n17  https://gradesfixer.com/free-essay-examples/so...    170  \n18  https://gradesfixer.com/free-essay-examples/so...    209  \n19   https://gradesfixer.com/free-essay-examples/war/     23  \n20  https://gradesfixer.com/free-essay-examples/wo...    124  ",
      "text/html": "<div>\n<style scoped>\n    .dataframe tbody tr th:only-of-type {\n        vertical-align: middle;\n    }\n\n    .dataframe tbody tr th {\n        vertical-align: top;\n    }\n\n    .dataframe thead th {\n        text-align: right;\n    }\n</style>\n<table border=\"1\" class=\"dataframe\">\n  <thead>\n    <tr style=\"text-align: right;\">\n      <th></th>\n      <th>category</th>\n      <th>url</th>\n      <th>pages</th>\n    </tr>\n  </thead>\n  <tbody>\n    <tr>\n      <th>0</th>\n      <td>Arts &amp; Culture</td>\n      <td>https://gradesfixer.com/free-essay-examples/art/</td>\n      <td>81</td>\n    </tr>\n    <tr>\n      <th>1</th>\n      <td>Business</td>\n      <td>https://gradesfixer.com/free-essay-examples/bu...</td>\n      <td>162</td>\n    </tr>\n    <tr>\n      <th>2</th>\n      <td>Economics</td>\n      <td>https://gradesfixer.com/free-essay-examples/ec...</td>\n      <td>88</td>\n    </tr>\n    <tr>\n      <th>3</th>\n      <td>Education</td>\n      <td>https://gradesfixer.com/free-essay-examples/ed...</td>\n      <td>119</td>\n    </tr>\n    <tr>\n      <th>4</th>\n      <td>Entertainment</td>\n      <td>https://gradesfixer.com/free-essay-examples/en...</td>\n      <td>174</td>\n    </tr>\n    <tr>\n      <th>5</th>\n      <td>Environment</td>\n      <td>https://gradesfixer.com/free-essay-examples/en...</td>\n      <td>68</td>\n    </tr>\n    <tr>\n      <th>6</th>\n      <td>Government &amp; Politics</td>\n      <td>https://gradesfixer.com/free-essay-examples/go...</td>\n      <td>97</td>\n    </tr>\n    <tr>\n      <th>7</th>\n      <td>Nursing &amp; Health</td>\n      <td>https://gradesfixer.com/free-essay-examples/he...</td>\n      <td>199</td>\n    </tr>\n    <tr>\n      <th>8</th>\n      <td>History</td>\n      <td>https://gradesfixer.com/free-essay-examples/hi...</td>\n      <td>148</td>\n    </tr>\n    <tr>\n      <th>9</th>\n      <td>Information Science</td>\n      <td>https://gradesfixer.com/free-essay-examples/in...</td>\n      <td>109</td>\n    </tr>\n    <tr>\n      <th>10</th>\n      <td>Law, Crime &amp; Punishment</td>\n      <td>https://gradesfixer.com/free-essay-examples/law/</td>\n      <td>103</td>\n    </tr>\n    <tr>\n      <th>11</th>\n      <td>Life</td>\n      <td>https://gradesfixer.com/free-essay-examples/life/</td>\n      <td>403</td>\n    </tr>\n    <tr>\n      <th>12</th>\n      <td>Literature</td>\n      <td>https://gradesfixer.com/free-essay-examples/li...</td>\n      <td>680</td>\n    </tr>\n    <tr>\n      <th>13</th>\n      <td>Philosophy</td>\n      <td>https://gradesfixer.com/free-essay-examples/ph...</td>\n      <td>78</td>\n    </tr>\n    <tr>\n      <th>14</th>\n      <td>Psychology</td>\n      <td>https://gradesfixer.com/free-essay-examples/ps...</td>\n      <td>76</td>\n    </tr>\n    <tr>\n      <th>15</th>\n      <td>Religion</td>\n      <td>https://gradesfixer.com/free-essay-examples/re...</td>\n      <td>53</td>\n    </tr>\n    <tr>\n      <th>16</th>\n      <td>Science</td>\n      <td>https://gradesfixer.com/free-essay-examples/sc...</td>\n      <td>144</td>\n    </tr>\n    <tr>\n      <th>17</th>\n      <td>Social Issues</td>\n      <td>https://gradesfixer.com/free-essay-examples/so...</td>\n      <td>170</td>\n    </tr>\n    <tr>\n      <th>18</th>\n      <td>Sociology</td>\n      <td>https://gradesfixer.com/free-essay-examples/so...</td>\n      <td>209</td>\n    </tr>\n    <tr>\n      <th>19</th>\n      <td>War</td>\n      <td>https://gradesfixer.com/free-essay-examples/war/</td>\n      <td>23</td>\n    </tr>\n    <tr>\n      <th>20</th>\n      <td>Geography &amp; Travel</td>\n      <td>https://gradesfixer.com/free-essay-examples/wo...</td>\n      <td>124</td>\n    </tr>\n  </tbody>\n</table>\n</div>"
     },
     "execution_count": 5,
     "metadata": {},
     "output_type": "execute_result"
    }
   ],
   "source": [
    "# Getting amount pages in categories\n",
    "\n",
    "pages_numbers_l = []\n",
    "\n",
    "for url_cat in df_category['url']:\n",
    "    page = requests.get(url_cat)\n",
    "    soup = BeautifulSoup(page.text, 'html')\n",
    "\n",
    "    pages_numbers_l.append(int(soup.find_all(class_='page-numbers')[3].text))\n",
    "\n",
    "df_category['pages'] = pages_numbers_l\n",
    "df_category"
   ],
   "metadata": {
    "collapsed": false,
    "ExecuteTime": {
     "end_time": "2024-01-31T11:41:06.131860300Z",
     "start_time": "2024-01-31T11:40:55.213618300Z"
    }
   }
  },
  {
   "cell_type": "code",
   "execution_count": 6,
   "outputs": [
    {
     "data": {
      "text/plain": "                category                                                url\n0         Arts & Culture  https://gradesfixer.com/free-essay-examples/ar...\n1         Arts & Culture  https://gradesfixer.com/free-essay-examples/ar...\n2         Arts & Culture  https://gradesfixer.com/free-essay-examples/ar...\n3         Arts & Culture  https://gradesfixer.com/free-essay-examples/ar...\n4         Arts & Culture  https://gradesfixer.com/free-essay-examples/ar...\n...                  ...                                                ...\n3303  Geography & Travel  https://gradesfixer.com/free-essay-examples/wo...\n3304  Geography & Travel  https://gradesfixer.com/free-essay-examples/wo...\n3305  Geography & Travel  https://gradesfixer.com/free-essay-examples/wo...\n3306  Geography & Travel  https://gradesfixer.com/free-essay-examples/wo...\n3307  Geography & Travel  https://gradesfixer.com/free-essay-examples/wo...\n\n[3308 rows x 2 columns]",
      "text/html": "<div>\n<style scoped>\n    .dataframe tbody tr th:only-of-type {\n        vertical-align: middle;\n    }\n\n    .dataframe tbody tr th {\n        vertical-align: top;\n    }\n\n    .dataframe thead th {\n        text-align: right;\n    }\n</style>\n<table border=\"1\" class=\"dataframe\">\n  <thead>\n    <tr style=\"text-align: right;\">\n      <th></th>\n      <th>category</th>\n      <th>url</th>\n    </tr>\n  </thead>\n  <tbody>\n    <tr>\n      <th>0</th>\n      <td>Arts &amp; Culture</td>\n      <td>https://gradesfixer.com/free-essay-examples/ar...</td>\n    </tr>\n    <tr>\n      <th>1</th>\n      <td>Arts &amp; Culture</td>\n      <td>https://gradesfixer.com/free-essay-examples/ar...</td>\n    </tr>\n    <tr>\n      <th>2</th>\n      <td>Arts &amp; Culture</td>\n      <td>https://gradesfixer.com/free-essay-examples/ar...</td>\n    </tr>\n    <tr>\n      <th>3</th>\n      <td>Arts &amp; Culture</td>\n      <td>https://gradesfixer.com/free-essay-examples/ar...</td>\n    </tr>\n    <tr>\n      <th>4</th>\n      <td>Arts &amp; Culture</td>\n      <td>https://gradesfixer.com/free-essay-examples/ar...</td>\n    </tr>\n    <tr>\n      <th>...</th>\n      <td>...</td>\n      <td>...</td>\n    </tr>\n    <tr>\n      <th>3303</th>\n      <td>Geography &amp; Travel</td>\n      <td>https://gradesfixer.com/free-essay-examples/wo...</td>\n    </tr>\n    <tr>\n      <th>3304</th>\n      <td>Geography &amp; Travel</td>\n      <td>https://gradesfixer.com/free-essay-examples/wo...</td>\n    </tr>\n    <tr>\n      <th>3305</th>\n      <td>Geography &amp; Travel</td>\n      <td>https://gradesfixer.com/free-essay-examples/wo...</td>\n    </tr>\n    <tr>\n      <th>3306</th>\n      <td>Geography &amp; Travel</td>\n      <td>https://gradesfixer.com/free-essay-examples/wo...</td>\n    </tr>\n    <tr>\n      <th>3307</th>\n      <td>Geography &amp; Travel</td>\n      <td>https://gradesfixer.com/free-essay-examples/wo...</td>\n    </tr>\n  </tbody>\n</table>\n<p>3308 rows × 2 columns</p>\n</div>"
     },
     "execution_count": 6,
     "metadata": {},
     "output_type": "execute_result"
    }
   ],
   "source": [
    "# Creating dataset with all pages of essays\n",
    "\n",
    "pages_dict = {'category':[], 'url': []}\n",
    "\n",
    "for index in df_category.index:\n",
    "    category = df_category.loc[index, 'category']\n",
    "    url = df_category.loc[index, 'url']\n",
    "    pages = df_category.loc[index, 'pages']\n",
    "\n",
    "    pages_dict['category'] += [category]*pages\n",
    "    pages_dict['url'] += [f\"{url}page/{i}\" for i in range(pages)]\n",
    "\n",
    "pages_df = pd.DataFrame(pages_dict)\n",
    "pages_df\n",
    "\n",
    "# FK - Foreigner Key"
   ],
   "metadata": {
    "collapsed": false,
    "ExecuteTime": {
     "end_time": "2024-01-31T11:41:11.824698700Z",
     "start_time": "2024-01-31T11:41:11.776675700Z"
    }
   }
  },
  {
   "cell_type": "code",
   "execution_count": 10,
   "outputs": [
    {
     "data": {
      "text/plain": "        category                                                url\n420    Education  https://gradesfixer.com/free-essay-examples/ed...\n2513  Psychology  https://gradesfixer.com/free-essay-examples/ps...\n2978   Sociology  https://gradesfixer.com/free-essay-examples/so...\n1030     History  https://gradesfixer.com/free-essay-examples/hi...\n1858  Literature  https://gradesfixer.com/free-essay-examples/li...",
      "text/html": "<div>\n<style scoped>\n    .dataframe tbody tr th:only-of-type {\n        vertical-align: middle;\n    }\n\n    .dataframe tbody tr th {\n        vertical-align: top;\n    }\n\n    .dataframe thead th {\n        text-align: right;\n    }\n</style>\n<table border=\"1\" class=\"dataframe\">\n  <thead>\n    <tr style=\"text-align: right;\">\n      <th></th>\n      <th>category</th>\n      <th>url</th>\n    </tr>\n  </thead>\n  <tbody>\n    <tr>\n      <th>420</th>\n      <td>Education</td>\n      <td>https://gradesfixer.com/free-essay-examples/ed...</td>\n    </tr>\n    <tr>\n      <th>2513</th>\n      <td>Psychology</td>\n      <td>https://gradesfixer.com/free-essay-examples/ps...</td>\n    </tr>\n    <tr>\n      <th>2978</th>\n      <td>Sociology</td>\n      <td>https://gradesfixer.com/free-essay-examples/so...</td>\n    </tr>\n    <tr>\n      <th>1030</th>\n      <td>History</td>\n      <td>https://gradesfixer.com/free-essay-examples/hi...</td>\n    </tr>\n    <tr>\n      <th>1858</th>\n      <td>Literature</td>\n      <td>https://gradesfixer.com/free-essay-examples/li...</td>\n    </tr>\n  </tbody>\n</table>\n</div>"
     },
     "execution_count": 10,
     "metadata": {},
     "output_type": "execute_result"
    }
   ],
   "source": [
    "# We don't need all pages. We take only some of them\n",
    "\n",
    "n_pages_needed = 5\n",
    "\n",
    "pages_sample_df = pages_df.sample(n_pages_needed)\n",
    "pages_sample_df"
   ],
   "metadata": {
    "collapsed": false,
    "ExecuteTime": {
     "end_time": "2024-01-31T11:45:55.236382Z",
     "start_time": "2024-01-31T11:45:55.206352800Z"
    }
   }
  },
  {
   "cell_type": "code",
   "execution_count": 11,
   "outputs": [
    {
     "data": {
      "text/plain": "   category_essay  page_number  article_index_on_page  \\\n0       Education          420                      0   \n1       Education          420                      1   \n2       Education          420                      2   \n3       Education          420                      3   \n4       Education          420                      4   \n..            ...          ...                    ...   \n90     Literature         1858                     14   \n91     Literature         1858                     15   \n92     Literature         1858                     16   \n93     Literature         1858                     17   \n94     Literature         1858                     18   \n\n                                            url_essay  \n0   https://gradesfixer.com/free-essay-examples/fa...  \n1   https://gradesfixer.com/free-essay-examples/id...  \n2   https://gradesfixer.com/free-essay-examples/li...  \n3   https://gradesfixer.com/free-essay-examples/ef...  \n4   https://gradesfixer.com/free-essay-examples/de...  \n..                                                ...  \n90  https://gradesfixer.com/free-essay-examples/co...  \n91  https://gradesfixer.com/free-essay-examples/a-...  \n92  https://gradesfixer.com/free-essay-examples/th...  \n93  https://gradesfixer.com/free-essay-examples/su...  \n94  https://gradesfixer.com/free-essay-examples/al...  \n\n[95 rows x 4 columns]",
      "text/html": "<div>\n<style scoped>\n    .dataframe tbody tr th:only-of-type {\n        vertical-align: middle;\n    }\n\n    .dataframe tbody tr th {\n        vertical-align: top;\n    }\n\n    .dataframe thead th {\n        text-align: right;\n    }\n</style>\n<table border=\"1\" class=\"dataframe\">\n  <thead>\n    <tr style=\"text-align: right;\">\n      <th></th>\n      <th>category_essay</th>\n      <th>page_number</th>\n      <th>article_index_on_page</th>\n      <th>url_essay</th>\n    </tr>\n  </thead>\n  <tbody>\n    <tr>\n      <th>0</th>\n      <td>Education</td>\n      <td>420</td>\n      <td>0</td>\n      <td>https://gradesfixer.com/free-essay-examples/fa...</td>\n    </tr>\n    <tr>\n      <th>1</th>\n      <td>Education</td>\n      <td>420</td>\n      <td>1</td>\n      <td>https://gradesfixer.com/free-essay-examples/id...</td>\n    </tr>\n    <tr>\n      <th>2</th>\n      <td>Education</td>\n      <td>420</td>\n      <td>2</td>\n      <td>https://gradesfixer.com/free-essay-examples/li...</td>\n    </tr>\n    <tr>\n      <th>3</th>\n      <td>Education</td>\n      <td>420</td>\n      <td>3</td>\n      <td>https://gradesfixer.com/free-essay-examples/ef...</td>\n    </tr>\n    <tr>\n      <th>4</th>\n      <td>Education</td>\n      <td>420</td>\n      <td>4</td>\n      <td>https://gradesfixer.com/free-essay-examples/de...</td>\n    </tr>\n    <tr>\n      <th>...</th>\n      <td>...</td>\n      <td>...</td>\n      <td>...</td>\n      <td>...</td>\n    </tr>\n    <tr>\n      <th>90</th>\n      <td>Literature</td>\n      <td>1858</td>\n      <td>14</td>\n      <td>https://gradesfixer.com/free-essay-examples/co...</td>\n    </tr>\n    <tr>\n      <th>91</th>\n      <td>Literature</td>\n      <td>1858</td>\n      <td>15</td>\n      <td>https://gradesfixer.com/free-essay-examples/a-...</td>\n    </tr>\n    <tr>\n      <th>92</th>\n      <td>Literature</td>\n      <td>1858</td>\n      <td>16</td>\n      <td>https://gradesfixer.com/free-essay-examples/th...</td>\n    </tr>\n    <tr>\n      <th>93</th>\n      <td>Literature</td>\n      <td>1858</td>\n      <td>17</td>\n      <td>https://gradesfixer.com/free-essay-examples/su...</td>\n    </tr>\n    <tr>\n      <th>94</th>\n      <td>Literature</td>\n      <td>1858</td>\n      <td>18</td>\n      <td>https://gradesfixer.com/free-essay-examples/al...</td>\n    </tr>\n  </tbody>\n</table>\n<p>95 rows × 4 columns</p>\n</div>"
     },
     "execution_count": 11,
     "metadata": {},
     "output_type": "execute_result"
    }
   ],
   "source": [
    "# Creating essays dataset:\n",
    "\n",
    "essays_df_dict = {\"category_essay\": [], 'page_number': [], \"article_index_on_page\": [], \"url_essay\": []}\n",
    "\n",
    "for index in pages_sample_df.index:\n",
    "    url_page = pages_sample_df.loc[index, 'url']\n",
    "    page = requests.get(url_page)\n",
    "    soup = BeautifulSoup(page.text, 'html')\n",
    "\n",
    "    category = pages_sample_df.loc[index, 'category']\n",
    "\n",
    "    articles = soup.find_all('article', class_='loop-10 related-essay-item')\n",
    "\n",
    "    for i, article in enumerate(articles):\n",
    "        essays_df_dict['category_essay'] += [category]\n",
    "        essays_df_dict['page_number'] += [index]\n",
    "        essays_df_dict['article_index_on_page'] += [i]\n",
    "        essays_df_dict['url_essay'] += [article.find('h2').find('a')['href']]\n",
    "\n",
    "\n",
    "essays_df = pd.DataFrame(essays_df_dict)\n",
    "essays_df"
   ],
   "metadata": {
    "collapsed": false,
    "ExecuteTime": {
     "end_time": "2024-01-31T11:46:09.896457500Z",
     "start_time": "2024-01-31T11:45:56.346511700Z"
    }
   }
  },
  {
   "cell_type": "code",
   "execution_count": 14,
   "outputs": [
    {
     "data": {
      "text/plain": "   category_essay  page_number  article_index_on_page  \\\n0       Education          420                      0   \n1       Education          420                      1   \n2       Education          420                      2   \n3       Education          420                      3   \n4       Education          420                      4   \n..            ...          ...                    ...   \n90     Literature         1858                     14   \n91     Literature         1858                     15   \n92     Literature         1858                     16   \n93     Literature         1858                     17   \n94     Literature         1858                     18   \n\n                                            url_essay  \\\n0   https://gradesfixer.com/free-essay-examples/fa...   \n1   https://gradesfixer.com/free-essay-examples/id...   \n2   https://gradesfixer.com/free-essay-examples/li...   \n3   https://gradesfixer.com/free-essay-examples/ef...   \n4   https://gradesfixer.com/free-essay-examples/de...   \n..                                                ...   \n90  https://gradesfixer.com/free-essay-examples/co...   \n91  https://gradesfixer.com/free-essay-examples/a-...   \n92  https://gradesfixer.com/free-essay-examples/th...   \n93  https://gradesfixer.com/free-essay-examples/su...   \n94  https://gradesfixer.com/free-essay-examples/al...   \n\n                                                 text  \n0   Choosing a major is critical choice in the ind...  \n1   \\n\\n\\nTable of contents\\n\\nGoal\\n\\nGlobal Cont...  \n2   The above research, methodology and data colle...  \n3   \\n\\n\\nTable of contents\\n\\nAbstract\\n\\nLiterat...  \n4   I have never viewed a person to have lived, un...  \n..                                                ...  \n90  \\n\\n\\nTable of contents\\n\\nIntroduction\\n\\nAna...  \n91  Edgar Allen Poe has a way of writing like no o...  \n92  “When you make a choice, you also choose the c...  \n93  Edgar Allan Poe is one of the world’s best kno...  \n94  The Myth of Sisyphus by Albert Camus is a phil...  \n\n[95 rows x 5 columns]",
      "text/html": "<div>\n<style scoped>\n    .dataframe tbody tr th:only-of-type {\n        vertical-align: middle;\n    }\n\n    .dataframe tbody tr th {\n        vertical-align: top;\n    }\n\n    .dataframe thead th {\n        text-align: right;\n    }\n</style>\n<table border=\"1\" class=\"dataframe\">\n  <thead>\n    <tr style=\"text-align: right;\">\n      <th></th>\n      <th>category_essay</th>\n      <th>page_number</th>\n      <th>article_index_on_page</th>\n      <th>url_essay</th>\n      <th>text</th>\n    </tr>\n  </thead>\n  <tbody>\n    <tr>\n      <th>0</th>\n      <td>Education</td>\n      <td>420</td>\n      <td>0</td>\n      <td>https://gradesfixer.com/free-essay-examples/fa...</td>\n      <td>Choosing a major is critical choice in the ind...</td>\n    </tr>\n    <tr>\n      <th>1</th>\n      <td>Education</td>\n      <td>420</td>\n      <td>1</td>\n      <td>https://gradesfixer.com/free-essay-examples/id...</td>\n      <td>\\n\\n\\nTable of contents\\n\\nGoal\\n\\nGlobal Cont...</td>\n    </tr>\n    <tr>\n      <th>2</th>\n      <td>Education</td>\n      <td>420</td>\n      <td>2</td>\n      <td>https://gradesfixer.com/free-essay-examples/li...</td>\n      <td>The above research, methodology and data colle...</td>\n    </tr>\n    <tr>\n      <th>3</th>\n      <td>Education</td>\n      <td>420</td>\n      <td>3</td>\n      <td>https://gradesfixer.com/free-essay-examples/ef...</td>\n      <td>\\n\\n\\nTable of contents\\n\\nAbstract\\n\\nLiterat...</td>\n    </tr>\n    <tr>\n      <th>4</th>\n      <td>Education</td>\n      <td>420</td>\n      <td>4</td>\n      <td>https://gradesfixer.com/free-essay-examples/de...</td>\n      <td>I have never viewed a person to have lived, un...</td>\n    </tr>\n    <tr>\n      <th>...</th>\n      <td>...</td>\n      <td>...</td>\n      <td>...</td>\n      <td>...</td>\n      <td>...</td>\n    </tr>\n    <tr>\n      <th>90</th>\n      <td>Literature</td>\n      <td>1858</td>\n      <td>14</td>\n      <td>https://gradesfixer.com/free-essay-examples/co...</td>\n      <td>\\n\\n\\nTable of contents\\n\\nIntroduction\\n\\nAna...</td>\n    </tr>\n    <tr>\n      <th>91</th>\n      <td>Literature</td>\n      <td>1858</td>\n      <td>15</td>\n      <td>https://gradesfixer.com/free-essay-examples/a-...</td>\n      <td>Edgar Allen Poe has a way of writing like no o...</td>\n    </tr>\n    <tr>\n      <th>92</th>\n      <td>Literature</td>\n      <td>1858</td>\n      <td>16</td>\n      <td>https://gradesfixer.com/free-essay-examples/th...</td>\n      <td>“When you make a choice, you also choose the c...</td>\n    </tr>\n    <tr>\n      <th>93</th>\n      <td>Literature</td>\n      <td>1858</td>\n      <td>17</td>\n      <td>https://gradesfixer.com/free-essay-examples/su...</td>\n      <td>Edgar Allan Poe is one of the world’s best kno...</td>\n    </tr>\n    <tr>\n      <th>94</th>\n      <td>Literature</td>\n      <td>1858</td>\n      <td>18</td>\n      <td>https://gradesfixer.com/free-essay-examples/al...</td>\n      <td>The Myth of Sisyphus by Albert Camus is a phil...</td>\n    </tr>\n  </tbody>\n</table>\n<p>95 rows × 5 columns</p>\n</div>"
     },
     "execution_count": 14,
     "metadata": {},
     "output_type": "execute_result"
    }
   ],
   "source": [
    "# Finally we are going to extract text:\n",
    "\n",
    "texts_l = []\n",
    "\n",
    "for url in essays_df['url_essay']:\n",
    "    page = requests.get(url)\n",
    "    soup = BeautifulSoup(page.text, 'html')\n",
    "\n",
    "    by_div_class = soup.find('div', class_=\"tab-content active\", id='essay-sample')\n",
    "\n",
    "\n",
    "    if by_div_class is None:\n",
    "        texts_l.append(None)\n",
    "        continue\n",
    "\n",
    "    new_sentence = by_div_class.text[1:]\n",
    "\n",
    "    _ = \"\\n\\nSay no to plagiarism.\\n Get a tailor-made essay on\\n'Why Violent Video Games Shouldn't Be Banned'?\\n\\nGet original essay\\n\\n\\n\"\n",
    "    new_sentence = new_sentence.replace(_, \"\")\n",
    "\n",
    "    _ = \"\\n\\nKeep in mind:  This is only a sample.\\nGet a custom paper now from our expert writers.\\n\\nGet custom essay\\n\\n\\n\"\n",
    "    new_sentence = new_sentence.replace(_, \"\")\n",
    "\n",
    "\n",
    "    new_sentence = new_sentence.replace(\"\\n\", \"\\n\\n\")\n",
    "    new_sentence = new_sentence.replace(\"\\n\\n\\n\", \"\\n\\n\")\n",
    "    new_sentence = new_sentence.replace(\"\\n\\n\\n\\n\", \"\\n\\n\")\n",
    "    new_sentence = new_sentence.replace(\"\\n\\n\\n\\n\\n\", \"\\n\\n\")\n",
    "    new_sentence = new_sentence.replace(\"\\n\\n\\n\\n\\n\\n\", \"\\n\\n\")\n",
    "\n",
    "\n",
    "    texts_l.append(new_sentence)\n",
    "\n",
    "essays_df['text'] = texts_l\n",
    "essays_df"
   ],
   "metadata": {
    "collapsed": false,
    "ExecuteTime": {
     "end_time": "2024-01-31T11:50:06.910625200Z",
     "start_time": "2024-01-31T11:47:45.854332500Z"
    }
   }
  },
  {
   "cell_type": "code",
   "execution_count": 18,
   "outputs": [
    {
     "name": "stdout",
     "output_type": "stream",
     "text": [
      "Before the Cold War, the United States fought as allies with the Soviet Union. After the war in Europe ended this alliance began to crumble. These tensions were first apparent at the Potsdam Conference and the Union were determined to set up pro-communist authorities in several other countries. These two powers knew that there was a struggle to maintain their influences were in danger. This war could be defined as a series of ongoing issues and constant tension between the two global superpowers. One major event that occurred was the space race to prove superiority to the other power. Meanwhile the Union beat us to the moon but they did not gain much power from this. Another major event that occurred and was one of the only weapon driven battles during the Cold War was the Arms Race. The Arms Race was when the Atomic bombs started taking off and the race to who could make the most was on. The whole division was fueled off of communism. The United States did not want Europe to be a communist country and the Soviet Union thought that it should. Joseph McCarthy was a procommunist republican senator that initiated the idea of McCarthyism. This arose the thought in Americans that communism was a negative thing. Later McCarthyism turned Americans away from communism and the Americans sought to get rid of McCarthy.\n",
      "\n",
      "\n",
      "At the beginning of the Cold War the race for superiority began. The start of direct communication from leader to leader began and the misinterpretations ceased due to the fact that the two powers were talking directly. This allowed for a lot of the excess hatred between the United States and the Soviet Union to also cease. As the Cold War continues McCarthy begins to emerge in his power and the Americans began to see him make a name for himself through the interviews he does and him testifying before committees. After hearing and seeing McCarthy the Americans specifically began to fear him and his tactics, as the threat of McCarthyism began to rise and freedoms begin to fall due to McCarthy, Americans came to the conclusion that communism was a negative thing. This is what caused fear in many Americans along with the idea that the nation would fall to Communism and McCarthyism. Along with these two things Americans already feared, McCarthy along with the House Committee on Un-American Activities (HUAC) led witch-hunts that particularly searched for Communist sympathizers. If someone was accused they were confronted with two options the first one being refusing to testify and potentially losing their friends and more importantly their jobs. The second option was to join the accusers and accuse their own friends and family of being communist. The Cold War was a conflict driven war with minimal confrontations with the opposing side, but filled with propaganda and a race for superiority and who was better between the Soviet Union and the United States.\n",
      "\n",
      "Finally, the United Sates President was able to communicate with the Soviet Union. On August 11th, 1952 Harry S. Truman and George F. Keenan began their conversation. The letter on August 11th was a very long telegram with lots of information and viewpoints of the Soviet Union. One thing Keenan stated in his telegram was, “The thing that strikes me hardest here is the extent to which the Soviet Government has lost contact with the west. There simply is no real channel for any exchange of views; and while we maintain a big embassy here in the middle of Moscow, we are so cut off and hemmed in with restrictions and ignored by the Soviet Government that it is as though no diplomatic relations existed at all” (Telegram, Keenan, 1952). Keenan is responding to a previous request from the president to write and share his impressions from the Union from time to time. This communication allows the Union and the United States to keep up to date about each other. President Truman sent a replying telegram over stating how much he enjoyed the letter that was sent over. He said that it was very informative and thanked him for sharing what their condition and relation with the Soviet Union was.\n",
      "\n",
      "During the Cold War the Soviet Union and the United States did not have much communication. A few telegrams were sent back and forth but most communication was through secondhand sources. Senator McCarthy was a Republican United States Senator that was pro communism and from the state of Wisconsin. McCarthy was a driving force to transform the United States from Capitalism to Communism. A telegram was sent from Senator McCarthy to President Truman discussing the idea of communism. Senator McCarthy’s telegram to President Truman stated “In the Lincoln day speech at Wheeling Thursday night I stated that the State Department harbors a nest of communists and communist sympathizers who are helping to shape our foreign policy. I further stated that I have in my possession the names of 57 communists who are in the State Department at present. A State Department Spokesman.” This telegram between the two was sent over on February 11th, 1950. McCarthy’s telegram to the President included names of many communist who were employed with the State Department, but McCarthy was never able to provide proof that there were communists working with the State Department. There was another telegram that entailed President Truman’s reply to the telegram sent by McCarthy stating, “I read your telegram of February eleventh from Reno, Nevada with a great deal of interest and this is the first time in my experience, and I was ten years in the Senate, that I ever heard of a Senator trying to discredit his own Government before the world. You know that isn’t done by honest public officials. Your telegram is not only not true and an insolent approach to a situation that should have been worked out between man and man but it shows conclusively that are not even fit to have a hand in the operation of the Government of the United States. I am very sure that the people of Wisconsin are extremely sorry that they are represented by a person who has as little sense of responsibility as you have.” This telegram was more than likely unsent but that details and proof on yes or no has never been declared.\n",
      "\n",
      "Senator McCarthy spoke in front of many committees. One committee that he spoke at was the subcommittee hearing of the Senate Foreign Relations Committee. Senator McCarthy is photographed in a photo from this committee hearing on March 9th, 1950. McCarthy is mid-sentence with a finger pointing to something in front of him while sitting at a table. There are many other guests and/ or committee members present at this hearing that are all paying attention to McCarthy. McCarthy sets many things in motion at this meeting and is resulted in the creation of a larger Office of Secretary that was now able to hold more resources and responsibilities. McCarthy began to lie about the number of communist he could recruit, and was never able to provide a set number of communist employed at the Department (Photograph, Associated Press. 1950). One occasion he accused the United States Army for pampering known communists. After this occasion in 1954 his power was reduced because he had no located communist that followed him. Senator McCarthy was seen on television on the “Longines Chronoscope” interview program on June 25th, 1952. The topics in this interview were campaigns in Wisconsin for both Presidential and Senatorial positions, the Communists in the Federal Government, and McCarthy’s book, McCarthyism ”The Fight for America”. One of the interview comments/ questions was, “You’re probably the most controversial figure on the American political scene. McCarthy and McCarthyism are well-known words. I’m sure our audience is very much interested in your political career, so tell us about the campaign in Wisconsin”.\n",
      "\n",
      "Americans began to fear the idea of McCarthyism which is the action of accusing peoples of treason or subversion without any proof or evidence of such action. Many Americans feared that the nation would fall to communism just as the Soviet Union was. Senator McCarthy was a Communist that tried to get the nation to fall into the hands of communism, through many interviews, and public speaking. One interview took place on CBS Face the Nation on November 7th, 1954. In this interview he tried to persuade many committee members to convert to communism and take his side on many occasions. One thing that was asked in the interview was the question that Jep Cadou arose and stated, “…several days ago you said that the Senate would censor you and that the cards were stacked against you. How do you feel about that now and if you feel the same way I ask why senator?” Senator McCarthy responded by stating that he spoke to his democratic friend and he said his vote would be to censor the Senator because McCarthy has labeled the democrat party to be made up of communism.\n",
      "\n",
      "Due to the fact that the Cold War was such a propagating war political cartoons sparked and they continued to be on the rise after the war. There were many cartoons released when the era of McCarthyism was occurring. One cartoon is titled “One Book That Can’t Be Burned” and pictures a book titled “The Love of Freedom” being engulfed in the flames of hatred, intolerance, ignorance, and totalitarianism. The meaning of this cartoon is that during the Cold War the countries that were communist based regularly practiced censorship and controlled the disbursement of information. So, in the era of McCarthy much effort was made to take away books from libraries to control the information available because they only wanted information from the leaders to be heard and people to not gain knowledge from published books. Book burning is also related to a political opposition and represents an element of censorship. More than likely McCarthy was looking to silence an aspect that contradicts his own ideas in a harsh way.\n",
      "\n",
      "McCarthyism was an action that caused great fear in many Americans and caused them to be very aware and knowledgeable on this topic. Americans feared of being accused to be communist. When Americans were accused reputations were torn apart and thousands of people lost their job. Many innocent people were accused and many well-known people were summoned to provide names of members who belonged to the communist party. Those who agreed that they were communist and provided other names of members were able to resume their lives as normal. On the other hand those who refused to agree to being a part of communism were cited for contempt and many actors were blacklisted for their jobs in the entertainment industry and it took many many years for them to recover their ruined reputation. Another political cartoon is titled “The Devil’s Disciple”. This cartoon shows a hooded ragged figure, that is dragging a chain with a ball connected to the end that looks similar to a wrecking ball and then in the other hand is a large whip (Political Cartoon, Block, 1954). With the background of postwar tensions from the Cold War and McCarthyism on the rise, the cartoonist reveals that fear alone is a destructive force. Another cartoon by Hungerford on December 3rd, 1953 shows President Eisenhower and McCarthy sitting next to each other and McCarthy has laid out political problems and presenting them to the President. The problems laid out are Foreign Policy, National Issues, and GOP Political Plans.\n",
      "\n",
      "\n",
      "The Cold War was fueled by the conflicts that occurred between the Soviet union and the United States but only truly had very minimal confrontations with each other, however it was filled with propaganda and a race for superiority and who was better between the two powers. As the Cold War came to a close and the fear in many Americans began to rise, and the United States began to form a nation and began to work out the conflicts. The start of communication aided in the development of the nation and allowed many officials from our nation and other nations to communicate with each other over disputes and disagreements. Senator McCarthy was on the rise and caused an even greater amount of fear in Americans due to his amazing idea of McCarthyism. McCarthy took part in many interviews, public speaking events, testimonials, and hearings from committees. He began to make a name for himself and form a so called group underneath him. McCarthy was involved with many lies and false claims about the number of communist that he actually had. He eventually lost his power and position in the government. Propagation and political cartoons are all the while still on the climb during the postwar era. Many political cartoons reflected on the evil things that McCarthy did and the fear that Americans experienced during the time McCarthy was in office. This time in history was not a joyful time but it was a time that the modern day era will look back on and gain knowledge from.\n",
      "\n",
      "Works Cited:\n",
      "\n",
      "\n",
      "Block, Herbert, Artist. “Cold War”. [11-14] Photograph. Retrieved from the Library of Congress, www.loc.gov/item/2012631908/.\n",
      "\n",
      "“Sen. Joseph McCarthy on Face the Nation.” Sen. Joseph McCarthy on Face the Nation, CBS News, 7 Nov. 1954.\n",
      "\n",
      "McCarthyism, National Archives, 14 Mar. 1950, https://eisenhower.archives.gov/research/audiovisual/images/mccarthyism/78_14_1_13.jpg.\n",
      "\n",
      "Block, Herbert, Artist. “Stop that! McCarthy will demand space for a reply”. [8-31] Photograph. Retrieved from the Library of Congress, www.loc.gov/item/2012632681/\n",
      "\n",
      "Talbert, Harold M., Artist. The Devil’s Disciple. May 5. Photograph. Retrieved from the Library of Congress, www.loc.gov/item/2016684192/.\n",
      "\n",
      "“Harry S. Truman Presidential Library & Museum.” Truman Library: Correspondence between George F. Kennan and Harry S. Truman, August 11, 1952, www.trumanlibrary.org/whistlestop/study_collections/coldwar/documents/index.php?documentid=2-6&pagenumber=3.\n",
      "\n",
      "Senator Joseph McCarthy Interview Transcript. 25 June 1952, www.c-span.org/video/?299445-1/senator-joseph-mccarthy-interview&start=24.\n",
      "\n",
      "Hungerford, Cy. “An Uncomfortable Situation .” Marshall and McCarthyism, 3 Dec. 1953, www.americaslibrary.gov/aa/marshall/aa_marshall_mcarthy_3_e.html.\n",
      "\n",
      "“McCarthy's Charges.” McCARTHYISM AND COLD WAR, Associated Press., 9 Mar. 1950, www.state.gov/documents/organization/176702.pdf.\n",
      "\n",
      "Marcus, Edwin, Artist One Book That Can’t Be Burned. Photograph. Retrieved from the Library of Congress, www.loc.gov/item/2016683724/\n",
      "\n",
      "“Telegram from Senator Joseph McCarthy to President Harry S. Truman.” National Archives and Records Administration, National Archives and Records Administration, 11 Feb. 1950, www.archives.gov/education/lessons/mccarthy-telegram.\n",
      "\n",
      "\n",
      "\n",
      "__________________________________________________________________________________________________________________________________\n",
      "The poem, “The Raven” by Edgar Allan Poe, is known for its rhyming, repetition, and language. The poem speaks of a raven's visit to an upset lover, making the man fall into sadness. In the film depicting Poe’s poem “The Raven” the director chose to reflect the source text in his adaption of the stories setting, characters, and mood.\n",
      "\n",
      "\n",
      "The first element that ties well into the film from the story is the setting. One example of the setting is the month of December, a harsh month that can symbolize the end of life due to it being the end of the year. Making the film set in this month can symbolize the man's emotions throughout the film. Another example of the setting is the time of the events; the film took place at midnight, creating the illusion of a dark atmosphere, and the feeling of sadness and apprehension. Because the main point of the poem is to express an upset lover, midnight is the perfect setting to express the feeling of depression and madness. The last example that expresses the setting is the room that the man is in – the chamber. In this film, this specific room is used to create the feeling of a lifeless, depressing atmosphere, to give off the meaning behind the film. Because the film is in black and white, the chamber can express the feeling of loneliness, or more so mysterious elements. Another element that the director chose to reflect the source of the text is characters.\n",
      "\n",
      "The second element that ties well into the film from the short story is the confusing and dispirited characters. One example of the characters is the Raven. In the film, the raven is used to express the heartbreaking remembrance of the narrator’s lost one, Lenore. When the raven enters the room, it holds domination over the narrator. The bird's darkness symbolizes death; therefore, death becomes a continuous reminder for the man. Another example of the characters is the unnamed man. The man is sad about the loss of someone he loved, leading to him believing he is fighting with the raven, but he is fighting with himself and his emotions. In order for the director to reflect the source of the text, another element he chose is mood.\n",
      "\n",
      "The third element that ties well into the film from the short story is mood. One example the director uses to establish the mood is the lighting. Lighting in a film can establish the mood for the scene and can also tell a lot about the plot. In this film, the director used lowkey lighting to create contrast and harsh shadows to construct the feeling of sadness, and loneliness. Another example the director uses to establish the mood is camera angles. In a film, camera angles can affect the emotional reaction towards the characters, and can also express the mood that the director is trying to release. In this film, the director used a high angle to set the mood. By using this angle, the mood is expressed by making the raven look more dominant than the man. The last example the director uses to establish the mood in the film is color. The director incorporated colors when the man is having flashbacks/hallucinations; the colors that are used are red, blue, and green. In a film, these colors establish the mood: danger, hurt, and isolation. In the film, all these elements helped reflect the source of the text.\n",
      "\n",
      "\n",
      "In conclusion, in the film depicting Poe’s poem “The Raven,” the director chose to reflect the source text in his adaption of the stories setting, characters, and mood. All of these story elements help make the film run smoothly and develops action that viewers can follow along with, without creating confusion. \n",
      "\n",
      "\n",
      "__________________________________________________________________________________________________________________________________\n",
      "In the essay “The Boys are Not All Right” Michael Ian Black states “Too many boys are trapped in the same suffocating, outdated model of masculinity, where manhood is measured in strength, where there is no way to be vulnerable without being emasculated, where manliness is about having power over others. They are trapped, and they don’t even have the language to talk about how they feel about being trapped, because the language that exists to discuss the full range of human emotion is still viewed as sensitive and feminine”. I absolutely agree with this statement because in the perception of society, a man always owes something to women. A man must earn money, a man must manage to pay attention to his beloved, he must give gifts, he must keep a grudge in himself, he must not hit a woman, and so I can list for a very long time... And to whom, which, and, most importantly, why, we do not always understand. Particularly stringent requirements are set for boys, future men who grow up with the installation that he owes to his parents, friends and most of all his woman. In fact, these are just the requirements of certain people, all this has nothing to do with debt. A man has every right to refuse a woman material support, because the only people who really need his help are his children, everyone else, especially a woman, can well provide for themselves. A man is not required to share your interests. A man does not have to dive into your problems. According to Black “I would like men to use feminism as an inspiration, in the same way that feminists used the civil rights movement as theirs”. Why don't men really create their own so-called feminist club? This club will be aimed not at aversion to women, but at defining the rights of men in society. Probably you will agree with me but in my opinion, today men and women adhere to the theory of equality.\n",
      "\n",
      "\n",
      "In her essay “When Misogynists Become Terrorists” Jessica Valenti says “After I started a feminist blog in 2004, I became a target of men’s-rights groups who were angry with women about everything from custody battles to the false notion that most women lie about rape”. Honestly, my opinion, when men openly declare this, is already a degree of despair. The man got lost in the tunnels and cannot find a way out. Despair is like an incurable disease, you no longer fight it, you rot in all this. There is no way back, only humility. Valenti states “The truth is that in addition to not protecting women, we are failing boys: failing to raise them to believe they can be men without inflicting pain on others, failing to teach them that they are not entitled to women’s sexual attention and failing to allow them an outlet for understandable human fear and foibles that will not label them “weak” or unworthy”. I totally disagree with this statement, since this is not an inability to teach them to be men, this is a misunderstanding by parents that a man is the same person as a woman who has his own feelings, desires, and most importantly - his own opinion! A man and a woman should be one, protect each other, give free rein to emotions, raise children and earn money. Parents should grow from a boy not a man, but first of all a man. Masculinity is primarily humanity. You just need to show it to society and the world will become safe.\n",
      "\n",
      "Let’s see another example, Philip Glass in his essay “When Masculinity Turns Toxic: A Gender Profile of Mass Shootings” says “We know from studies that even feminist mothers will give girls, their daughters, more sympathy when they are hurt than their sons, which encourages boys to hide their pain and to deprioritize their pain, and view it as not being something that they can show the world”. Feminist mothers make of boys those people who are opposed openly. Why? Let the boys know that as a girl they have arms, legs, eyes, ears; they feel pain, they want to cry, they want to share secrets with you. You need to understand that from this, the boys will not become weak. They will be able to protect themselves; they will be able to provide for themselves, and most importantly, they will have self-esteem!\n",
      "\n",
      "Works Cited\n",
      "\n",
      "\n",
      "Black, Michael Ian. “The Boys Are Not All Right.” The New York Times, 22 Feb. 2018.\n",
      "\n",
      "Valenti, Jessica. “When Misogynists Become Terrorists”. The New York Times, April 26, 2018.\n",
      "\n",
      "Glass, Philip. “When Masculinity Turns Toxic: A Gender Profile of Mass Shootings”. California Healthline, 10 Feb. 2019.       \n",
      "\n",
      "\n",
      "\n",
      "__________________________________________________________________________________________________________________________________\n"
     ]
    }
   ],
   "source": [
    "# Samples of essays:\n",
    "\n",
    "for sample_text in essays_df.sample(3)['text']:\n",
    "    print(sample_text)\n",
    "    print(\"_\"*130)"
   ],
   "metadata": {
    "collapsed": false,
    "ExecuteTime": {
     "end_time": "2024-01-31T11:51:39.141551300Z",
     "start_time": "2024-01-31T11:51:39.134531900Z"
    }
   }
  },
  {
   "cell_type": "code",
   "execution_count": 13,
   "outputs": [],
   "source": [
    "# Here we can save our csv:\n",
    "\n",
    "#essays_df.to_csv('human_essays.csv', index=False)"
   ],
   "metadata": {
    "collapsed": false,
    "ExecuteTime": {
     "end_time": "2024-01-31T10:14:16.643082100Z",
     "start_time": "2024-01-31T10:14:16.445467300Z"
    }
   }
  }
 ],
 "metadata": {
  "kernelspec": {
   "display_name": "Python 3",
   "language": "python",
   "name": "python3"
  },
  "language_info": {
   "codemirror_mode": {
    "name": "ipython",
    "version": 2
   },
   "file_extension": ".py",
   "mimetype": "text/x-python",
   "name": "python",
   "nbconvert_exporter": "python",
   "pygments_lexer": "ipython2",
   "version": "2.7.6"
  }
 },
 "nbformat": 4,
 "nbformat_minor": 5
}
