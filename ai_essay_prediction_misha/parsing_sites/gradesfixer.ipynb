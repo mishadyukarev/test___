{
 "cells": [
  {
   "cell_type": "code",
   "execution_count": 1,
   "outputs": [],
   "source": [
    "# Importing needed libraries:\n",
    "\n",
    "import pandas as pd\n",
    "from bs4 import BeautifulSoup\n",
    "import requests"
   ],
   "metadata": {
    "collapsed": false
   },
   "id": "aabc17a7a4a4578"
  },
  {
   "cell_type": "code",
   "execution_count": 2,
   "outputs": [],
   "source": [
    "# Needed url of site:\n",
    "\n",
    "url = \"https://gradesfixer.com\""
   ],
   "metadata": {
    "collapsed": false,
    "ExecuteTime": {
     "end_time": "2024-01-31T11:40:36.199634400Z",
     "start_time": "2024-01-31T11:40:36.190642200Z"
    }
   }
  },
  {
   "cell_type": "code",
   "execution_count": 19,
   "outputs": [],
   "source": [
    "# Getting html home page of the site:\n",
    "\n",
    "page = requests.get(url)\n",
    "soup = BeautifulSoup(page.text, 'html')"
   ],
   "metadata": {
    "collapsed": false,
    "ExecuteTime": {
     "end_time": "2024-01-31T11:52:55.747775900Z",
     "start_time": "2024-01-31T11:52:55.104426100Z"
    }
   }
  },
  {
   "cell_type": "code",
   "execution_count": 4,
   "outputs": [
    {
     "data": {
      "text/plain": "                   category                                                url\n0            Arts & Culture   https://gradesfixer.com/free-essay-examples/art/\n1                  Business  https://gradesfixer.com/free-essay-examples/bu...\n2                 Economics  https://gradesfixer.com/free-essay-examples/ec...\n3                 Education  https://gradesfixer.com/free-essay-examples/ed...\n4             Entertainment  https://gradesfixer.com/free-essay-examples/en...\n5               Environment  https://gradesfixer.com/free-essay-examples/en...\n6     Government & Politics  https://gradesfixer.com/free-essay-examples/go...\n7          Nursing & Health  https://gradesfixer.com/free-essay-examples/he...\n8                   History  https://gradesfixer.com/free-essay-examples/hi...\n9       Information Science  https://gradesfixer.com/free-essay-examples/in...\n10  Law, Crime & Punishment   https://gradesfixer.com/free-essay-examples/law/\n11                     Life  https://gradesfixer.com/free-essay-examples/life/\n12               Literature  https://gradesfixer.com/free-essay-examples/li...\n13               Philosophy  https://gradesfixer.com/free-essay-examples/ph...\n14               Psychology  https://gradesfixer.com/free-essay-examples/ps...\n15                 Religion  https://gradesfixer.com/free-essay-examples/re...\n16                  Science  https://gradesfixer.com/free-essay-examples/sc...\n17            Social Issues  https://gradesfixer.com/free-essay-examples/so...\n18                Sociology  https://gradesfixer.com/free-essay-examples/so...\n19                      War   https://gradesfixer.com/free-essay-examples/war/\n20       Geography & Travel  https://gradesfixer.com/free-essay-examples/wo...",
      "text/html": "<div>\n<style scoped>\n    .dataframe tbody tr th:only-of-type {\n        vertical-align: middle;\n    }\n\n    .dataframe tbody tr th {\n        vertical-align: top;\n    }\n\n    .dataframe thead th {\n        text-align: right;\n    }\n</style>\n<table border=\"1\" class=\"dataframe\">\n  <thead>\n    <tr style=\"text-align: right;\">\n      <th></th>\n      <th>category</th>\n      <th>url</th>\n    </tr>\n  </thead>\n  <tbody>\n    <tr>\n      <th>0</th>\n      <td>Arts &amp; Culture</td>\n      <td>https://gradesfixer.com/free-essay-examples/art/</td>\n    </tr>\n    <tr>\n      <th>1</th>\n      <td>Business</td>\n      <td>https://gradesfixer.com/free-essay-examples/bu...</td>\n    </tr>\n    <tr>\n      <th>2</th>\n      <td>Economics</td>\n      <td>https://gradesfixer.com/free-essay-examples/ec...</td>\n    </tr>\n    <tr>\n      <th>3</th>\n      <td>Education</td>\n      <td>https://gradesfixer.com/free-essay-examples/ed...</td>\n    </tr>\n    <tr>\n      <th>4</th>\n      <td>Entertainment</td>\n      <td>https://gradesfixer.com/free-essay-examples/en...</td>\n    </tr>\n    <tr>\n      <th>5</th>\n      <td>Environment</td>\n      <td>https://gradesfixer.com/free-essay-examples/en...</td>\n    </tr>\n    <tr>\n      <th>6</th>\n      <td>Government &amp; Politics</td>\n      <td>https://gradesfixer.com/free-essay-examples/go...</td>\n    </tr>\n    <tr>\n      <th>7</th>\n      <td>Nursing &amp; Health</td>\n      <td>https://gradesfixer.com/free-essay-examples/he...</td>\n    </tr>\n    <tr>\n      <th>8</th>\n      <td>History</td>\n      <td>https://gradesfixer.com/free-essay-examples/hi...</td>\n    </tr>\n    <tr>\n      <th>9</th>\n      <td>Information Science</td>\n      <td>https://gradesfixer.com/free-essay-examples/in...</td>\n    </tr>\n    <tr>\n      <th>10</th>\n      <td>Law, Crime &amp; Punishment</td>\n      <td>https://gradesfixer.com/free-essay-examples/law/</td>\n    </tr>\n    <tr>\n      <th>11</th>\n      <td>Life</td>\n      <td>https://gradesfixer.com/free-essay-examples/life/</td>\n    </tr>\n    <tr>\n      <th>12</th>\n      <td>Literature</td>\n      <td>https://gradesfixer.com/free-essay-examples/li...</td>\n    </tr>\n    <tr>\n      <th>13</th>\n      <td>Philosophy</td>\n      <td>https://gradesfixer.com/free-essay-examples/ph...</td>\n    </tr>\n    <tr>\n      <th>14</th>\n      <td>Psychology</td>\n      <td>https://gradesfixer.com/free-essay-examples/ps...</td>\n    </tr>\n    <tr>\n      <th>15</th>\n      <td>Religion</td>\n      <td>https://gradesfixer.com/free-essay-examples/re...</td>\n    </tr>\n    <tr>\n      <th>16</th>\n      <td>Science</td>\n      <td>https://gradesfixer.com/free-essay-examples/sc...</td>\n    </tr>\n    <tr>\n      <th>17</th>\n      <td>Social Issues</td>\n      <td>https://gradesfixer.com/free-essay-examples/so...</td>\n    </tr>\n    <tr>\n      <th>18</th>\n      <td>Sociology</td>\n      <td>https://gradesfixer.com/free-essay-examples/so...</td>\n    </tr>\n    <tr>\n      <th>19</th>\n      <td>War</td>\n      <td>https://gradesfixer.com/free-essay-examples/war/</td>\n    </tr>\n    <tr>\n      <th>20</th>\n      <td>Geography &amp; Travel</td>\n      <td>https://gradesfixer.com/free-essay-examples/wo...</td>\n    </tr>\n  </tbody>\n</table>\n</div>"
     },
     "execution_count": 4,
     "metadata": {},
     "output_type": "execute_result"
    }
   ],
   "source": [
    "# Getting references of different categories:\n",
    "\n",
    "df_category = pd.DataFrame()\n",
    "\n",
    "categorical_urls =  [value['href'] for value in soup.find('li').find_all('a')]\n",
    "categorical_urls = categorical_urls[:-1]\n",
    "\n",
    "df_category['category'] = soup.find('li').text.split('\\n')[2:][:-3]\n",
    "df_category['url'] = categorical_urls\n",
    "df_category"
   ],
   "metadata": {
    "collapsed": false,
    "ExecuteTime": {
     "end_time": "2024-01-31T11:40:48.387767500Z",
     "start_time": "2024-01-31T11:40:48.361691300Z"
    }
   }
  },
  {
   "cell_type": "code",
   "execution_count": 5,
   "outputs": [
    {
     "data": {
      "text/plain": "                   category  \\\n0            Arts & Culture   \n1                  Business   \n2                 Economics   \n3                 Education   \n4             Entertainment   \n5               Environment   \n6     Government & Politics   \n7          Nursing & Health   \n8                   History   \n9       Information Science   \n10  Law, Crime & Punishment   \n11                     Life   \n12               Literature   \n13               Philosophy   \n14               Psychology   \n15                 Religion   \n16                  Science   \n17            Social Issues   \n18                Sociology   \n19                      War   \n20       Geography & Travel   \n\n                                                  url  pages  \n0    https://gradesfixer.com/free-essay-examples/art/     81  \n1   https://gradesfixer.com/free-essay-examples/bu...    162  \n2   https://gradesfixer.com/free-essay-examples/ec...     88  \n3   https://gradesfixer.com/free-essay-examples/ed...    119  \n4   https://gradesfixer.com/free-essay-examples/en...    174  \n5   https://gradesfixer.com/free-essay-examples/en...     68  \n6   https://gradesfixer.com/free-essay-examples/go...     97  \n7   https://gradesfixer.com/free-essay-examples/he...    199  \n8   https://gradesfixer.com/free-essay-examples/hi...    148  \n9   https://gradesfixer.com/free-essay-examples/in...    109  \n10   https://gradesfixer.com/free-essay-examples/law/    103  \n11  https://gradesfixer.com/free-essay-examples/life/    403  \n12  https://gradesfixer.com/free-essay-examples/li...    680  \n13  https://gradesfixer.com/free-essay-examples/ph...     78  \n14  https://gradesfixer.com/free-essay-examples/ps...     76  \n15  https://gradesfixer.com/free-essay-examples/re...     53  \n16  https://gradesfixer.com/free-essay-examples/sc...    144  \n17  https://gradesfixer.com/free-essay-examples/so...    170  \n18  https://gradesfixer.com/free-essay-examples/so...    209  \n19   https://gradesfixer.com/free-essay-examples/war/     23  \n20  https://gradesfixer.com/free-essay-examples/wo...    124  ",
      "text/html": "<div>\n<style scoped>\n    .dataframe tbody tr th:only-of-type {\n        vertical-align: middle;\n    }\n\n    .dataframe tbody tr th {\n        vertical-align: top;\n    }\n\n    .dataframe thead th {\n        text-align: right;\n    }\n</style>\n<table border=\"1\" class=\"dataframe\">\n  <thead>\n    <tr style=\"text-align: right;\">\n      <th></th>\n      <th>category</th>\n      <th>url</th>\n      <th>pages</th>\n    </tr>\n  </thead>\n  <tbody>\n    <tr>\n      <th>0</th>\n      <td>Arts &amp; Culture</td>\n      <td>https://gradesfixer.com/free-essay-examples/art/</td>\n      <td>81</td>\n    </tr>\n    <tr>\n      <th>1</th>\n      <td>Business</td>\n      <td>https://gradesfixer.com/free-essay-examples/bu...</td>\n      <td>162</td>\n    </tr>\n    <tr>\n      <th>2</th>\n      <td>Economics</td>\n      <td>https://gradesfixer.com/free-essay-examples/ec...</td>\n      <td>88</td>\n    </tr>\n    <tr>\n      <th>3</th>\n      <td>Education</td>\n      <td>https://gradesfixer.com/free-essay-examples/ed...</td>\n      <td>119</td>\n    </tr>\n    <tr>\n      <th>4</th>\n      <td>Entertainment</td>\n      <td>https://gradesfixer.com/free-essay-examples/en...</td>\n      <td>174</td>\n    </tr>\n    <tr>\n      <th>5</th>\n      <td>Environment</td>\n      <td>https://gradesfixer.com/free-essay-examples/en...</td>\n      <td>68</td>\n    </tr>\n    <tr>\n      <th>6</th>\n      <td>Government &amp; Politics</td>\n      <td>https://gradesfixer.com/free-essay-examples/go...</td>\n      <td>97</td>\n    </tr>\n    <tr>\n      <th>7</th>\n      <td>Nursing &amp; Health</td>\n      <td>https://gradesfixer.com/free-essay-examples/he...</td>\n      <td>199</td>\n    </tr>\n    <tr>\n      <th>8</th>\n      <td>History</td>\n      <td>https://gradesfixer.com/free-essay-examples/hi...</td>\n      <td>148</td>\n    </tr>\n    <tr>\n      <th>9</th>\n      <td>Information Science</td>\n      <td>https://gradesfixer.com/free-essay-examples/in...</td>\n      <td>109</td>\n    </tr>\n    <tr>\n      <th>10</th>\n      <td>Law, Crime &amp; Punishment</td>\n      <td>https://gradesfixer.com/free-essay-examples/law/</td>\n      <td>103</td>\n    </tr>\n    <tr>\n      <th>11</th>\n      <td>Life</td>\n      <td>https://gradesfixer.com/free-essay-examples/life/</td>\n      <td>403</td>\n    </tr>\n    <tr>\n      <th>12</th>\n      <td>Literature</td>\n      <td>https://gradesfixer.com/free-essay-examples/li...</td>\n      <td>680</td>\n    </tr>\n    <tr>\n      <th>13</th>\n      <td>Philosophy</td>\n      <td>https://gradesfixer.com/free-essay-examples/ph...</td>\n      <td>78</td>\n    </tr>\n    <tr>\n      <th>14</th>\n      <td>Psychology</td>\n      <td>https://gradesfixer.com/free-essay-examples/ps...</td>\n      <td>76</td>\n    </tr>\n    <tr>\n      <th>15</th>\n      <td>Religion</td>\n      <td>https://gradesfixer.com/free-essay-examples/re...</td>\n      <td>53</td>\n    </tr>\n    <tr>\n      <th>16</th>\n      <td>Science</td>\n      <td>https://gradesfixer.com/free-essay-examples/sc...</td>\n      <td>144</td>\n    </tr>\n    <tr>\n      <th>17</th>\n      <td>Social Issues</td>\n      <td>https://gradesfixer.com/free-essay-examples/so...</td>\n      <td>170</td>\n    </tr>\n    <tr>\n      <th>18</th>\n      <td>Sociology</td>\n      <td>https://gradesfixer.com/free-essay-examples/so...</td>\n      <td>209</td>\n    </tr>\n    <tr>\n      <th>19</th>\n      <td>War</td>\n      <td>https://gradesfixer.com/free-essay-examples/war/</td>\n      <td>23</td>\n    </tr>\n    <tr>\n      <th>20</th>\n      <td>Geography &amp; Travel</td>\n      <td>https://gradesfixer.com/free-essay-examples/wo...</td>\n      <td>124</td>\n    </tr>\n  </tbody>\n</table>\n</div>"
     },
     "execution_count": 5,
     "metadata": {},
     "output_type": "execute_result"
    }
   ],
   "source": [
    "# Getting amount pages in categories\n",
    "\n",
    "pages_numbers_l = []\n",
    "\n",
    "for url_cat in df_category['url']:\n",
    "    page = requests.get(url_cat)\n",
    "    soup = BeautifulSoup(page.text, 'html')\n",
    "\n",
    "    pages_numbers_l.append(int(soup.find_all(class_='page-numbers')[3].text))\n",
    "\n",
    "df_category['pages'] = pages_numbers_l\n",
    "df_category"
   ],
   "metadata": {
    "collapsed": false,
    "ExecuteTime": {
     "end_time": "2024-01-31T11:41:06.131860300Z",
     "start_time": "2024-01-31T11:40:55.213618300Z"
    }
   }
  },
  {
   "cell_type": "code",
   "execution_count": 6,
   "outputs": [
    {
     "data": {
      "text/plain": "                category                                                url\n0         Arts & Culture  https://gradesfixer.com/free-essay-examples/ar...\n1         Arts & Culture  https://gradesfixer.com/free-essay-examples/ar...\n2         Arts & Culture  https://gradesfixer.com/free-essay-examples/ar...\n3         Arts & Culture  https://gradesfixer.com/free-essay-examples/ar...\n4         Arts & Culture  https://gradesfixer.com/free-essay-examples/ar...\n...                  ...                                                ...\n3303  Geography & Travel  https://gradesfixer.com/free-essay-examples/wo...\n3304  Geography & Travel  https://gradesfixer.com/free-essay-examples/wo...\n3305  Geography & Travel  https://gradesfixer.com/free-essay-examples/wo...\n3306  Geography & Travel  https://gradesfixer.com/free-essay-examples/wo...\n3307  Geography & Travel  https://gradesfixer.com/free-essay-examples/wo...\n\n[3308 rows x 2 columns]",
      "text/html": "<div>\n<style scoped>\n    .dataframe tbody tr th:only-of-type {\n        vertical-align: middle;\n    }\n\n    .dataframe tbody tr th {\n        vertical-align: top;\n    }\n\n    .dataframe thead th {\n        text-align: right;\n    }\n</style>\n<table border=\"1\" class=\"dataframe\">\n  <thead>\n    <tr style=\"text-align: right;\">\n      <th></th>\n      <th>category</th>\n      <th>url</th>\n    </tr>\n  </thead>\n  <tbody>\n    <tr>\n      <th>0</th>\n      <td>Arts &amp; Culture</td>\n      <td>https://gradesfixer.com/free-essay-examples/ar...</td>\n    </tr>\n    <tr>\n      <th>1</th>\n      <td>Arts &amp; Culture</td>\n      <td>https://gradesfixer.com/free-essay-examples/ar...</td>\n    </tr>\n    <tr>\n      <th>2</th>\n      <td>Arts &amp; Culture</td>\n      <td>https://gradesfixer.com/free-essay-examples/ar...</td>\n    </tr>\n    <tr>\n      <th>3</th>\n      <td>Arts &amp; Culture</td>\n      <td>https://gradesfixer.com/free-essay-examples/ar...</td>\n    </tr>\n    <tr>\n      <th>4</th>\n      <td>Arts &amp; Culture</td>\n      <td>https://gradesfixer.com/free-essay-examples/ar...</td>\n    </tr>\n    <tr>\n      <th>...</th>\n      <td>...</td>\n      <td>...</td>\n    </tr>\n    <tr>\n      <th>3303</th>\n      <td>Geography &amp; Travel</td>\n      <td>https://gradesfixer.com/free-essay-examples/wo...</td>\n    </tr>\n    <tr>\n      <th>3304</th>\n      <td>Geography &amp; Travel</td>\n      <td>https://gradesfixer.com/free-essay-examples/wo...</td>\n    </tr>\n    <tr>\n      <th>3305</th>\n      <td>Geography &amp; Travel</td>\n      <td>https://gradesfixer.com/free-essay-examples/wo...</td>\n    </tr>\n    <tr>\n      <th>3306</th>\n      <td>Geography &amp; Travel</td>\n      <td>https://gradesfixer.com/free-essay-examples/wo...</td>\n    </tr>\n    <tr>\n      <th>3307</th>\n      <td>Geography &amp; Travel</td>\n      <td>https://gradesfixer.com/free-essay-examples/wo...</td>\n    </tr>\n  </tbody>\n</table>\n<p>3308 rows × 2 columns</p>\n</div>"
     },
     "execution_count": 6,
     "metadata": {},
     "output_type": "execute_result"
    }
   ],
   "source": [
    "# Creating dataset with all pages of essays\n",
    "\n",
    "pages_dict = {'category':[], 'url': []}\n",
    "\n",
    "for index in df_category.index:\n",
    "    category = df_category.loc[index, 'category']\n",
    "    url = df_category.loc[index, 'url']\n",
    "    pages = df_category.loc[index, 'pages']\n",
    "\n",
    "    pages_dict['category'] += [category]*pages\n",
    "    pages_dict['url'] += [f\"{url}page/{i}\" for i in range(pages)]\n",
    "\n",
    "pages_df = pd.DataFrame(pages_dict)\n",
    "pages_df"
   ],
   "metadata": {
    "collapsed": false,
    "ExecuteTime": {
     "end_time": "2024-01-31T11:41:11.824698700Z",
     "start_time": "2024-01-31T11:41:11.776675700Z"
    }
   }
  },
  {
   "cell_type": "code",
   "execution_count": 10,
   "outputs": [
    {
     "data": {
      "text/plain": "        category                                                url\n420    Education  https://gradesfixer.com/free-essay-examples/ed...\n2513  Psychology  https://gradesfixer.com/free-essay-examples/ps...\n2978   Sociology  https://gradesfixer.com/free-essay-examples/so...\n1030     History  https://gradesfixer.com/free-essay-examples/hi...\n1858  Literature  https://gradesfixer.com/free-essay-examples/li...",
      "text/html": "<div>\n<style scoped>\n    .dataframe tbody tr th:only-of-type {\n        vertical-align: middle;\n    }\n\n    .dataframe tbody tr th {\n        vertical-align: top;\n    }\n\n    .dataframe thead th {\n        text-align: right;\n    }\n</style>\n<table border=\"1\" class=\"dataframe\">\n  <thead>\n    <tr style=\"text-align: right;\">\n      <th></th>\n      <th>category</th>\n      <th>url</th>\n    </tr>\n  </thead>\n  <tbody>\n    <tr>\n      <th>420</th>\n      <td>Education</td>\n      <td>https://gradesfixer.com/free-essay-examples/ed...</td>\n    </tr>\n    <tr>\n      <th>2513</th>\n      <td>Psychology</td>\n      <td>https://gradesfixer.com/free-essay-examples/ps...</td>\n    </tr>\n    <tr>\n      <th>2978</th>\n      <td>Sociology</td>\n      <td>https://gradesfixer.com/free-essay-examples/so...</td>\n    </tr>\n    <tr>\n      <th>1030</th>\n      <td>History</td>\n      <td>https://gradesfixer.com/free-essay-examples/hi...</td>\n    </tr>\n    <tr>\n      <th>1858</th>\n      <td>Literature</td>\n      <td>https://gradesfixer.com/free-essay-examples/li...</td>\n    </tr>\n  </tbody>\n</table>\n</div>"
     },
     "execution_count": 10,
     "metadata": {},
     "output_type": "execute_result"
    }
   ],
   "source": [
    "# We don't need all pages. We take only some of them\n",
    "\n",
    "n_pages_needed = 5\n",
    "\n",
    "pages_sample_df = pages_df.sample(n_pages_needed)\n",
    "pages_sample_df"
   ],
   "metadata": {
    "collapsed": false,
    "ExecuteTime": {
     "end_time": "2024-01-31T11:45:55.236382Z",
     "start_time": "2024-01-31T11:45:55.206352800Z"
    }
   }
  },
  {
   "cell_type": "code",
   "execution_count": 11,
   "outputs": [
    {
     "data": {
      "text/plain": "   category_essay  page_number  article_index_on_page  \\\n0       Education          420                      0   \n1       Education          420                      1   \n2       Education          420                      2   \n3       Education          420                      3   \n4       Education          420                      4   \n..            ...          ...                    ...   \n90     Literature         1858                     14   \n91     Literature         1858                     15   \n92     Literature         1858                     16   \n93     Literature         1858                     17   \n94     Literature         1858                     18   \n\n                                            url_essay  \n0   https://gradesfixer.com/free-essay-examples/fa...  \n1   https://gradesfixer.com/free-essay-examples/id...  \n2   https://gradesfixer.com/free-essay-examples/li...  \n3   https://gradesfixer.com/free-essay-examples/ef...  \n4   https://gradesfixer.com/free-essay-examples/de...  \n..                                                ...  \n90  https://gradesfixer.com/free-essay-examples/co...  \n91  https://gradesfixer.com/free-essay-examples/a-...  \n92  https://gradesfixer.com/free-essay-examples/th...  \n93  https://gradesfixer.com/free-essay-examples/su...  \n94  https://gradesfixer.com/free-essay-examples/al...  \n\n[95 rows x 4 columns]",
      "text/html": "<div>\n<style scoped>\n    .dataframe tbody tr th:only-of-type {\n        vertical-align: middle;\n    }\n\n    .dataframe tbody tr th {\n        vertical-align: top;\n    }\n\n    .dataframe thead th {\n        text-align: right;\n    }\n</style>\n<table border=\"1\" class=\"dataframe\">\n  <thead>\n    <tr style=\"text-align: right;\">\n      <th></th>\n      <th>category_essay</th>\n      <th>page_number</th>\n      <th>article_index_on_page</th>\n      <th>url_essay</th>\n    </tr>\n  </thead>\n  <tbody>\n    <tr>\n      <th>0</th>\n      <td>Education</td>\n      <td>420</td>\n      <td>0</td>\n      <td>https://gradesfixer.com/free-essay-examples/fa...</td>\n    </tr>\n    <tr>\n      <th>1</th>\n      <td>Education</td>\n      <td>420</td>\n      <td>1</td>\n      <td>https://gradesfixer.com/free-essay-examples/id...</td>\n    </tr>\n    <tr>\n      <th>2</th>\n      <td>Education</td>\n      <td>420</td>\n      <td>2</td>\n      <td>https://gradesfixer.com/free-essay-examples/li...</td>\n    </tr>\n    <tr>\n      <th>3</th>\n      <td>Education</td>\n      <td>420</td>\n      <td>3</td>\n      <td>https://gradesfixer.com/free-essay-examples/ef...</td>\n    </tr>\n    <tr>\n      <th>4</th>\n      <td>Education</td>\n      <td>420</td>\n      <td>4</td>\n      <td>https://gradesfixer.com/free-essay-examples/de...</td>\n    </tr>\n    <tr>\n      <th>...</th>\n      <td>...</td>\n      <td>...</td>\n      <td>...</td>\n      <td>...</td>\n    </tr>\n    <tr>\n      <th>90</th>\n      <td>Literature</td>\n      <td>1858</td>\n      <td>14</td>\n      <td>https://gradesfixer.com/free-essay-examples/co...</td>\n    </tr>\n    <tr>\n      <th>91</th>\n      <td>Literature</td>\n      <td>1858</td>\n      <td>15</td>\n      <td>https://gradesfixer.com/free-essay-examples/a-...</td>\n    </tr>\n    <tr>\n      <th>92</th>\n      <td>Literature</td>\n      <td>1858</td>\n      <td>16</td>\n      <td>https://gradesfixer.com/free-essay-examples/th...</td>\n    </tr>\n    <tr>\n      <th>93</th>\n      <td>Literature</td>\n      <td>1858</td>\n      <td>17</td>\n      <td>https://gradesfixer.com/free-essay-examples/su...</td>\n    </tr>\n    <tr>\n      <th>94</th>\n      <td>Literature</td>\n      <td>1858</td>\n      <td>18</td>\n      <td>https://gradesfixer.com/free-essay-examples/al...</td>\n    </tr>\n  </tbody>\n</table>\n<p>95 rows × 4 columns</p>\n</div>"
     },
     "execution_count": 11,
     "metadata": {},
     "output_type": "execute_result"
    }
   ],
   "source": [
    "# Creating essays dataset:\n",
    "\n",
    "essays_df_dict = {\"category_essay\": [], 'page_number': [], \"article_index_on_page\": [], \"url_essay\": []}\n",
    "\n",
    "for index in pages_sample_df.index:\n",
    "    url_page = pages_sample_df.loc[index, 'url']\n",
    "    page = requests.get(url_page)\n",
    "    soup = BeautifulSoup(page.text, 'html')\n",
    "\n",
    "    category = pages_sample_df.loc[index, 'category']\n",
    "\n",
    "    articles = soup.find_all('article', class_='loop-10 related-essay-item')\n",
    "\n",
    "    for i, article in enumerate(articles):\n",
    "        essays_df_dict['category_essay'] += [category]\n",
    "        essays_df_dict['page_number'] += [index]\n",
    "        essays_df_dict['article_index_on_page'] += [i]\n",
    "        essays_df_dict['url_essay'] += [article.find('h2').find('a')['href']]\n",
    "\n",
    "\n",
    "essays_df = pd.DataFrame(essays_df_dict)\n",
    "essays_df"
   ],
   "metadata": {
    "collapsed": false,
    "ExecuteTime": {
     "end_time": "2024-01-31T11:46:09.896457500Z",
     "start_time": "2024-01-31T11:45:56.346511700Z"
    }
   }
  },
  {
   "cell_type": "code",
   "execution_count": 14,
   "outputs": [
    {
     "data": {
      "text/plain": "   category_essay  page_number  article_index_on_page  \\\n0       Education          420                      0   \n1       Education          420                      1   \n2       Education          420                      2   \n3       Education          420                      3   \n4       Education          420                      4   \n..            ...          ...                    ...   \n90     Literature         1858                     14   \n91     Literature         1858                     15   \n92     Literature         1858                     16   \n93     Literature         1858                     17   \n94     Literature         1858                     18   \n\n                                            url_essay  \\\n0   https://gradesfixer.com/free-essay-examples/fa...   \n1   https://gradesfixer.com/free-essay-examples/id...   \n2   https://gradesfixer.com/free-essay-examples/li...   \n3   https://gradesfixer.com/free-essay-examples/ef...   \n4   https://gradesfixer.com/free-essay-examples/de...   \n..                                                ...   \n90  https://gradesfixer.com/free-essay-examples/co...   \n91  https://gradesfixer.com/free-essay-examples/a-...   \n92  https://gradesfixer.com/free-essay-examples/th...   \n93  https://gradesfixer.com/free-essay-examples/su...   \n94  https://gradesfixer.com/free-essay-examples/al...   \n\n                                                 text  \n0   Choosing a major is critical choice in the ind...  \n1   \\n\\n\\nTable of contents\\n\\nGoal\\n\\nGlobal Cont...  \n2   The above research, methodology and data colle...  \n3   \\n\\n\\nTable of contents\\n\\nAbstract\\n\\nLiterat...  \n4   I have never viewed a person to have lived, un...  \n..                                                ...  \n90  \\n\\n\\nTable of contents\\n\\nIntroduction\\n\\nAna...  \n91  Edgar Allen Poe has a way of writing like no o...  \n92  “When you make a choice, you also choose the c...  \n93  Edgar Allan Poe is one of the world’s best kno...  \n94  The Myth of Sisyphus by Albert Camus is a phil...  \n\n[95 rows x 5 columns]",
      "text/html": "<div>\n<style scoped>\n    .dataframe tbody tr th:only-of-type {\n        vertical-align: middle;\n    }\n\n    .dataframe tbody tr th {\n        vertical-align: top;\n    }\n\n    .dataframe thead th {\n        text-align: right;\n    }\n</style>\n<table border=\"1\" class=\"dataframe\">\n  <thead>\n    <tr style=\"text-align: right;\">\n      <th></th>\n      <th>category_essay</th>\n      <th>page_number</th>\n      <th>article_index_on_page</th>\n      <th>url_essay</th>\n      <th>text</th>\n    </tr>\n  </thead>\n  <tbody>\n    <tr>\n      <th>0</th>\n      <td>Education</td>\n      <td>420</td>\n      <td>0</td>\n      <td>https://gradesfixer.com/free-essay-examples/fa...</td>\n      <td>Choosing a major is critical choice in the ind...</td>\n    </tr>\n    <tr>\n      <th>1</th>\n      <td>Education</td>\n      <td>420</td>\n      <td>1</td>\n      <td>https://gradesfixer.com/free-essay-examples/id...</td>\n      <td>\\n\\n\\nTable of contents\\n\\nGoal\\n\\nGlobal Cont...</td>\n    </tr>\n    <tr>\n      <th>2</th>\n      <td>Education</td>\n      <td>420</td>\n      <td>2</td>\n      <td>https://gradesfixer.com/free-essay-examples/li...</td>\n      <td>The above research, methodology and data colle...</td>\n    </tr>\n    <tr>\n      <th>3</th>\n      <td>Education</td>\n      <td>420</td>\n      <td>3</td>\n      <td>https://gradesfixer.com/free-essay-examples/ef...</td>\n      <td>\\n\\n\\nTable of contents\\n\\nAbstract\\n\\nLiterat...</td>\n    </tr>\n    <tr>\n      <th>4</th>\n      <td>Education</td>\n      <td>420</td>\n      <td>4</td>\n      <td>https://gradesfixer.com/free-essay-examples/de...</td>\n      <td>I have never viewed a person to have lived, un...</td>\n    </tr>\n    <tr>\n      <th>...</th>\n      <td>...</td>\n      <td>...</td>\n      <td>...</td>\n      <td>...</td>\n      <td>...</td>\n    </tr>\n    <tr>\n      <th>90</th>\n      <td>Literature</td>\n      <td>1858</td>\n      <td>14</td>\n      <td>https://gradesfixer.com/free-essay-examples/co...</td>\n      <td>\\n\\n\\nTable of contents\\n\\nIntroduction\\n\\nAna...</td>\n    </tr>\n    <tr>\n      <th>91</th>\n      <td>Literature</td>\n      <td>1858</td>\n      <td>15</td>\n      <td>https://gradesfixer.com/free-essay-examples/a-...</td>\n      <td>Edgar Allen Poe has a way of writing like no o...</td>\n    </tr>\n    <tr>\n      <th>92</th>\n      <td>Literature</td>\n      <td>1858</td>\n      <td>16</td>\n      <td>https://gradesfixer.com/free-essay-examples/th...</td>\n      <td>“When you make a choice, you also choose the c...</td>\n    </tr>\n    <tr>\n      <th>93</th>\n      <td>Literature</td>\n      <td>1858</td>\n      <td>17</td>\n      <td>https://gradesfixer.com/free-essay-examples/su...</td>\n      <td>Edgar Allan Poe is one of the world’s best kno...</td>\n    </tr>\n    <tr>\n      <th>94</th>\n      <td>Literature</td>\n      <td>1858</td>\n      <td>18</td>\n      <td>https://gradesfixer.com/free-essay-examples/al...</td>\n      <td>The Myth of Sisyphus by Albert Camus is a phil...</td>\n    </tr>\n  </tbody>\n</table>\n<p>95 rows × 5 columns</p>\n</div>"
     },
     "execution_count": 14,
     "metadata": {},
     "output_type": "execute_result"
    }
   ],
   "source": [
    "# Finally we are going to extract text:\n",
    "\n",
    "texts_l = []\n",
    "\n",
    "for url in essays_df['url_essay']:\n",
    "    page = requests.get(url)\n",
    "    soup = BeautifulSoup(page.text, 'html')\n",
    "\n",
    "    by_div_class = soup.find('div', class_=\"tab-content active\", id='essay-sample')\n",
    "\n",
    "\n",
    "    if by_div_class is None:\n",
    "        texts_l.append(None)\n",
    "        continue\n",
    "\n",
    "    new_sentence = by_div_class.text[1:]\n",
    "\n",
    "    _ = \"\\n\\nSay no to plagiarism.\\n Get a tailor-made essay on\\n'Why Violent Video Games Shouldn't Be Banned'?\\n\\nGet original essay\\n\\n\\n\"\n",
    "    new_sentence = new_sentence.replace(_, \"\")\n",
    "\n",
    "    _ = \"\\n\\nKeep in mind:  This is only a sample.\\nGet a custom paper now from our expert writers.\\n\\nGet custom essay\\n\\n\\n\"\n",
    "    new_sentence = new_sentence.replace(_, \"\")\n",
    "\n",
    "\n",
    "    new_sentence = new_sentence.replace(\"\\n\", \"\\n\\n\")\n",
    "    new_sentence = new_sentence.replace(\"\\n\\n\\n\", \"\\n\\n\")\n",
    "    new_sentence = new_sentence.replace(\"\\n\\n\\n\\n\", \"\\n\\n\")\n",
    "    new_sentence = new_sentence.replace(\"\\n\\n\\n\\n\\n\", \"\\n\\n\")\n",
    "    new_sentence = new_sentence.replace(\"\\n\\n\\n\\n\\n\\n\", \"\\n\\n\")\n",
    "\n",
    "\n",
    "    texts_l.append(new_sentence)\n",
    "\n",
    "essays_df['text'] = texts_l\n",
    "essays_df"
   ],
   "metadata": {
    "collapsed": false,
    "ExecuteTime": {
     "end_time": "2024-01-31T11:50:06.910625200Z",
     "start_time": "2024-01-31T11:47:45.854332500Z"
    }
   }
  },
  {
   "cell_type": "code",
   "execution_count": 20,
   "outputs": [
    {
     "name": "stdout",
     "output_type": "stream",
     "text": [
      "Society's understanding of masculinity is changing, which is redefining culture and challenging long-held beliefs. What does it mean to be a man? My interpretation may differ from yours or from a person 50 years ago, in today’s society the perception of masculinity is changing and redefining itself. Society has taught us that being a man means being masculine, not showing emotions, being skilled with manual labour, and that men and boys need to master any sport they can. This perception has put men into a box that is hard to escape. Men in the media such as actors and men used in advertising are under constant pressure and question themselves – am I being man enough?\n",
      "\n",
      "\n",
      "The “Man Box”\n",
      "\n",
      "The “Man Box” is the set of beliefs in society that place pressure on men to be a certain way – to be tough, not show emotions, to be a breadwinner, to always be in control, to use violence to solve problems and to have many sexual partners. The “Man Box”’ is alive and well in Australia’s society. A study by the Jesuit Social Services, found that the majority of young men agree that there are a lot of social pressures on them to behave or act a certain way because of their gender. Though a majority of young men disagree with the “Man Box” beliefs, there is still a larger number who agree with some of the beliefs that make up the man box. These is beliefs include, being strong, not showing vulnerability, always being in control and men being the primary providers of the home. Many men find themselves trying to live up to the pressures which society has moulded to be a ‘real man’. Statistics from the Jesuit Social Service study found that 44% of young men in the “Man Box”’ found themselves having thoughts of suicide in the last two weeks. Male suicide is a solution-based behaviour that some men turn to when dealing with problems they can neither fix, nor cope with. It is the product of a whole host of men’s issues we are collectively failing to solve. According to Lifeline, three times as many Australian men die by suicide than women. In 2016, there were on average 41 male deaths by suicide each week. That’s six in a day, or one every four hours. This was the result of toxic masculinity. This causes harm to young men and those around them, particularly women. The pressures relating to being a man are plastered everywhere in today’s society and are reinforced and influenced through young men’s relationships – friends, families and partners. Across all levels of society, there must be a focus on building awareness of the “Man Box” norms and their harmful impacts on the lives of men, and shows the need for more positive alternatives to be promoted to avoid the “Man Box” mindset.\n",
      "\n",
      "Downside of Being a Male\n",
      "\n",
      "Actor Justin Baldoni states in his TED talk that “An actor’s job is to stick to the script and bring to life the character that someone else wrote”. Throughout his career Baldoni, has had a “wide variety” of roles, these include male escort #1, photographer date rapist, shirtless date rapist, shirtless medical student, and his most known role as Rafael – a brooding reformed playboy on Jane the Virgin. However, these roles don’t represent Baldoni as the man he is in his real life, he gets to live inside these characters different to himself. Most of the roles he play ooze machismo, charisma and power, qualities that he doesn’t see in himself – this is how Hollywood sees him. Giving him roles pretending to be the man he’s not. The media portrays him in a way he’s not, pretending to be strong when he felt weak, confident when he felt insecure, forcing him to put on a show for everyone because that’s how the media saw him. This shows how exhausting it is for men in media to try be man enough for everyone all the time. Society has imprinted into the minds of boy the kind of man they should grow up to be – to be accepted and liked by the other boys, to gain this acceptance this means to have a disgusted view of the feminine – this means rejecting embodying feminine qualities or face rejection. \n",
      "\n",
      "\n",
      "Overall these are only a few examples of scripts that society has given us. Telling us that girls are weak and boys are strong, this is what is being subconsciously communicated to hundreds of millions of boys and girls around the world. This is wrong, this is toxic and this has to end.  \n",
      "\n",
      "\n",
      "______________________________________________________________________________________________________________\n",
      "The Pit and the Pendulum is a short story about terror written by the famous American writer Edgar Allan Poe. Poe was born on January 19 of 1809 in Boston, Massachusetts. When he was a child his parents died, and Poe was taken into the custody of John Allan. After a couple years Poe decided to attend to the University of Virginia where he later dropped out due to financial issues and went back home to find out that his love named Sara was engaged to someone else. Poe has suffered so many issues emotionally and physically which people believe that his stories and poems were inspired by those situations. The Pit and The Pendulum story set occurs around the time of the Spanish inquisition (1487), when Spain was fighting amongst themselves because half of the population was Christian and the other half were Jews, which ignited what would become the Spanish Inquisition. At the time, the church had a powerful hold on society and this era bore one of the most brutal punishments in history to those who were opposed to the church. The Spanish inquisition presented many painful instruments of punishment that happen to anyone is they did not follow the law or did traditional things. Even the innocent were punished. The monks were the ones who were punishing the people in the name of God and they even were the ones who were executing people, an idea that would be heavily frowned upon in today’s society. The era of the Spanish inquisition plays an essential key in The Pit and the Pendulum which makes the story a lot more horrific. \n",
      "\n",
      "\n",
      "The Pit and the Pendulum is a first-person story of an unknown narrator who is feeling sick with agony, who was being drugged losing his sense throughout the trial where he was being judge by several judges with their faces covered. He mentions that these people are inquisitors, which gives us a clue that this is the Spanish inquisition known for their painful punishment. The unnamed narrator was starting to lose his vision and found himself in a cell where it is extremely dark, believing he is buried alive in a tomb. He starts walking around the cell unable to see but at the same time he is counting his steps to see how big the cell is. After several steps he always falls towards a pit and goes back to his cell to sleep and wakes up to see his room illuminated, he notices that he has been tied down and only can use his left hand. After a couple minutes, he notices that on the ceiling there is a picture of the father of time and a pendulum slowly going towards him. The unnamed narrator manages to escape then suddenly the walls are pushing the protagonist into the pit, but suddenly gets rescue by the general of the French army. The pit and the pendulum is a story which is first person that provides us extreme details within the story such as several aspects of symbolism during the story, and themes. \n",
      "\n",
      "The first-person narrative gives the reader a special point of view of the story by describing every single detail throughout the story, and makes the audience feel as though they are in the story feeling the horror for themselves. The story of the Pit and the Pendulum is offering the reader the experience of reading a story where the narrator of the story is himself the protagonist. Throughout the story, the narrator has been extremely specific and descriptive by telling the reader his frightening experience, which gets the attention of the audience by making them curious as they read deeper. The story is first person and also shows the emotions of the unnamed narrator of the situations that he experienced for example; “The blackness of eternal night encompassed me. I struggled for breath. The intensity of the darkness seemed to oppress and stifle me. The atmosphere was intolerably close”. The narrator is being descriptive about his cell, how dark it is, and how does he feel being in there. Poe manages to do an excellent work with this piece of literature by making feel the reader like if they’d spectating the protagonist. \n",
      "\n",
      "There are numerous symbolisms inside the story, which have meaning the cell which has several meanings as the story continues, the pit resembles the struggle and suffering of the narrator by calling it hell, and finally the pendulum which resembles time. In the story of the Pit and the Pendulum there are several symbolisms within the story. For example, the cell being a reflection of humankind placed into world full of inescapable threats. In the story the protagonist does not have any information about his whereabouts, or the dangers of his surroundings walking around an unknown area and counting each step until he almost falls into a pit. The pit symbolizes hell “Not only because it threatens destruction, but also because it’s true nature and what might happen once one falls into it is unknowable”. Another representation of the pit is if the narrator was to fall into the deeply pit that would mean that he was sinning until he would reach hell, and that implies that the inquisitors tried to create their own version of hell. Poe used some biblical imageries throughout the story. Towards the end of the story, the final piece of symbolism is found. The pendulum which resembles time, during the story the narrator wakes up held by a wood board and long strap wrapped around his body. He looks up to the ceiling to see an image of the father of time that was recently painted, and a pendulum that is razor sharp constructed to kill the narrator. “In this context Father Time brings to mind his ghoulish doppelgänger, the Grim Reaper, who wields his scythe to harvest human life”. Poe manages to create another way of torture by letting to know the victim that his time is running out, and he will be soon be dead also making him go crazy. \n",
      "\n",
      "There are several themes that are found in the Pit and the Pendulum,” but there’s a one that played a bigger role in the story the fear of death. Poe is considered a master of terror by bring horror and suspense in his pieces of work for example the Pit and the Pendulum. During the story, the audience can tell the main theme of the story which the fear of death of the protagonist and captures the attention of the audience. Throughout the story, the unnamed narrator has experienced the fear of losing his life during his punishment by the inquisitors. For example; “Down – steadily down it crept. I took a frenzied pleasure in contrasting its downward with its lateral velocity. To the right – to the left – far and wide – with the shriek of a damned spirit; to my heart with the stealthy pace of the tiger! I alternately laughed and howled as the one or the other idea grew predominant”. At the end of the story, the narrator almost lost his life to the pendulum slowly going down, panicked and losing himself into madness. \n",
      "\n",
      "\n",
      "In the story of the pit and the pendulum, the reader has encounter the protagonist of the story as the narrator who is extremely descriptive throughout the story, during the story there are several symbolism that are related to the church and themes related to the fear of the death of the protagonist. \n",
      "\n",
      "\n",
      "______________________________________________________________________________________________________________\n",
      "The concept of intelligence has been a subject of fascination and debate for centuries. Throughout the years, various methods have been employed to measure and assess intelligence, and one such method that often takes center stage is examinations. This essay delves into the question of whether examinations truly serve as a good measure of intelligence, considering the advantages and limitations of this approach.\n",
      "\n",
      "\n",
      "Examinations are undoubtedly a widely utilized tool to assess an individual's cognitive abilities and knowledge. They provide a structured and standardized way to evaluate a student's understanding of academic subjects and their capacity to apply learned concepts. Examinations test not only memorization but also critical thinking, problem-solving skills, and the ability to synthesize information. In this way, they offer a snapshot of a student's intellectual capabilities at a given moment in time.\n",
      "\n",
      "However, it is important to recognize that intelligence encompasses a broader range of qualities than what examinations can capture. Intelligence extends beyond academic prowess to encompass emotional intelligence, creativity, adaptability, and social skills. Examinations tend to focus on rote memorization and regurgitation of information, leaving little room to assess these other dimensions of intelligence. Thus, while examinations provide a valuable measure of certain cognitive abilities, they are not an all-encompassing representation of a person's intelligence.\n",
      "\n",
      "Standardized testing, a common form of examinations, has garnered criticism for its potential biases and limitations. One key concern is that standardized tests may favor individuals who have access to test preparation resources, such as tutoring and practice materials. This can lead to a disparity in scores based on socioeconomic factors rather than innate intelligence. Additionally, cultural and linguistic differences can affect test performance, creating an unfair advantage for those from certain backgrounds. These biases highlight the need for a more holistic approach to assessing intelligence that considers diverse abilities and backgrounds.\n",
      "\n",
      "Another drawback of relying solely on examinations to measure intelligence is the pressure and anxiety they can induce. High-stakes exams can lead to stress and anxiety, which in turn may impact a student's performance. The fear of failure can overshadow a student's true intellectual potential, skewing the results and painting an inaccurate picture of their abilities. This is particularly relevant given the growing recognition of the importance of emotional well-being in cognitive development.\n",
      "\n",
      "Furthermore, examinations do not account for the individualized learning styles and strengths of each student. People have diverse ways of acquiring and demonstrating knowledge, and examinations may not cater to these differences. Some students excel in hands-on learning, creative projects, or collaborative discussions, but their talents may not be adequately showcased in a traditional examination setting. Therefore, a singular reliance on examinations may overlook valuable forms of intelligence.\n",
      "\n",
      "Despite these limitations, examinations have their merits as a measure of intelligence. They provide a structured and quantifiable way to evaluate large groups of individuals, making them useful for educational institutions and employers seeking to assess a large pool of candidates. Examinations also encourage students to study and prepare, fostering discipline and a strong work ethic. Additionally, the competitive nature of examinations can motivate students to strive for excellence and push their intellectual boundaries.\n",
      "\n",
      "Alternative assessment methods that supplement or replace traditional examinations have gained traction in recent years. These methods include project-based assessments, portfolios, presentations, and real-world problem-solving tasks. Such approaches allow students to demonstrate their understanding and skills in more diverse and practical ways. By incorporating these alternatives, educators can better capture a student's overall intelligence and potential, while also encouraging the development of critical skills beyond memorization.\n",
      "\n",
      "\n",
      "In conclusion, the question of whether examinations are a good measure of intelligence is nuanced and multi-faceted. While examinations offer a structured and standardized way to assess cognitive abilities, they have limitations in capturing the full spectrum of human intelligence. Factors such as biases, anxiety, and a lack of consideration for individual differences must be taken into account. As education evolves, there is a growing recognition of the need to embrace diverse forms of assessment that better align with the complexities of human intelligence. By striking a balance between examinations and alternative methods, we can more accurately and comprehensively gauge intelligence and provide a fairer and more accurate representation of an individual's intellectual abilities.\n",
      "\n",
      "\n",
      "______________________________________________________________________________________________________________\n"
     ]
    }
   ],
   "source": [
    "# Samples of essays:\n",
    "\n",
    "for sample_text in essays_df.sample(3)['text']:\n",
    "    print(sample_text)\n",
    "    print(\"_\"*110)"
   ],
   "metadata": {
    "collapsed": false,
    "ExecuteTime": {
     "end_time": "2024-01-31T11:54:40.800063500Z",
     "start_time": "2024-01-31T11:54:40.773170600Z"
    }
   }
  },
  {
   "cell_type": "code",
   "execution_count": 13,
   "outputs": [],
   "source": [
    "# Here we can save our csv:\n",
    "\n",
    "#essays_df.to_csv('human_essays.csv', index=False)"
   ],
   "metadata": {
    "collapsed": false,
    "ExecuteTime": {
     "end_time": "2024-01-31T10:14:16.643082100Z",
     "start_time": "2024-01-31T10:14:16.445467300Z"
    }
   }
  }
 ],
 "metadata": {
  "kernelspec": {
   "display_name": "Python 3",
   "language": "python",
   "name": "python3"
  },
  "language_info": {
   "codemirror_mode": {
    "name": "ipython",
    "version": 2
   },
   "file_extension": ".py",
   "mimetype": "text/x-python",
   "name": "python",
   "nbconvert_exporter": "python",
   "pygments_lexer": "ipython2",
   "version": "2.7.6"
  }
 },
 "nbformat": 4,
 "nbformat_minor": 5
}
