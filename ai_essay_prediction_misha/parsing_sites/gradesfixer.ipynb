{
 "cells": [
  {
   "cell_type": "code",
   "execution_count": 23,
   "outputs": [],
   "source": [
    "import numpy as np\n",
    "import pandas as pd\n",
    "import seaborn as sns\n",
    "import re\n",
    "import time\n",
    "\n",
    "from bs4 import BeautifulSoup\n",
    "import requests"
   ],
   "metadata": {
    "collapsed": false,
    "ExecuteTime": {
     "end_time": "2023-12-19T09:42:19.730710600Z",
     "start_time": "2023-12-19T09:42:19.693525600Z"
    }
   },
   "id": "aabc17a7a4a4578"
  },
  {
   "cell_type": "code",
   "execution_count": 24,
   "outputs": [],
   "source": [
    "url = 'https://gradesfixer.com'\n",
    "page = requests.get(url)\n",
    "soup = BeautifulSoup(page.text, 'html')"
   ],
   "metadata": {
    "collapsed": false,
    "ExecuteTime": {
     "end_time": "2023-12-19T09:42:20.412005900Z",
     "start_time": "2023-12-19T09:42:19.705006400Z"
    }
   }
  },
  {
   "cell_type": "code",
   "execution_count": 25,
   "outputs": [
    {
     "data": {
      "text/plain": "                                                  url\n0    https://gradesfixer.com/free-essay-examples/art/\n1   https://gradesfixer.com/free-essay-examples/bu...\n2   https://gradesfixer.com/free-essay-examples/ec...\n3   https://gradesfixer.com/free-essay-examples/ed...\n4   https://gradesfixer.com/free-essay-examples/en...\n5   https://gradesfixer.com/free-essay-examples/en...\n6   https://gradesfixer.com/free-essay-examples/go...\n7   https://gradesfixer.com/free-essay-examples/he...\n8   https://gradesfixer.com/free-essay-examples/hi...\n9   https://gradesfixer.com/free-essay-examples/in...\n10   https://gradesfixer.com/free-essay-examples/law/\n11  https://gradesfixer.com/free-essay-examples/life/\n12  https://gradesfixer.com/free-essay-examples/li...\n13  https://gradesfixer.com/free-essay-examples/ph...\n14  https://gradesfixer.com/free-essay-examples/ps...\n15  https://gradesfixer.com/free-essay-examples/re...\n16  https://gradesfixer.com/free-essay-examples/sc...\n17  https://gradesfixer.com/free-essay-examples/so...\n18  https://gradesfixer.com/free-essay-examples/so...\n19   https://gradesfixer.com/free-essay-examples/war/\n20  https://gradesfixer.com/free-essay-examples/wo...",
      "text/html": "<div>\n<style scoped>\n    .dataframe tbody tr th:only-of-type {\n        vertical-align: middle;\n    }\n\n    .dataframe tbody tr th {\n        vertical-align: top;\n    }\n\n    .dataframe thead th {\n        text-align: right;\n    }\n</style>\n<table border=\"1\" class=\"dataframe\">\n  <thead>\n    <tr style=\"text-align: right;\">\n      <th></th>\n      <th>url</th>\n    </tr>\n  </thead>\n  <tbody>\n    <tr>\n      <th>0</th>\n      <td>https://gradesfixer.com/free-essay-examples/art/</td>\n    </tr>\n    <tr>\n      <th>1</th>\n      <td>https://gradesfixer.com/free-essay-examples/bu...</td>\n    </tr>\n    <tr>\n      <th>2</th>\n      <td>https://gradesfixer.com/free-essay-examples/ec...</td>\n    </tr>\n    <tr>\n      <th>3</th>\n      <td>https://gradesfixer.com/free-essay-examples/ed...</td>\n    </tr>\n    <tr>\n      <th>4</th>\n      <td>https://gradesfixer.com/free-essay-examples/en...</td>\n    </tr>\n    <tr>\n      <th>5</th>\n      <td>https://gradesfixer.com/free-essay-examples/en...</td>\n    </tr>\n    <tr>\n      <th>6</th>\n      <td>https://gradesfixer.com/free-essay-examples/go...</td>\n    </tr>\n    <tr>\n      <th>7</th>\n      <td>https://gradesfixer.com/free-essay-examples/he...</td>\n    </tr>\n    <tr>\n      <th>8</th>\n      <td>https://gradesfixer.com/free-essay-examples/hi...</td>\n    </tr>\n    <tr>\n      <th>9</th>\n      <td>https://gradesfixer.com/free-essay-examples/in...</td>\n    </tr>\n    <tr>\n      <th>10</th>\n      <td>https://gradesfixer.com/free-essay-examples/law/</td>\n    </tr>\n    <tr>\n      <th>11</th>\n      <td>https://gradesfixer.com/free-essay-examples/life/</td>\n    </tr>\n    <tr>\n      <th>12</th>\n      <td>https://gradesfixer.com/free-essay-examples/li...</td>\n    </tr>\n    <tr>\n      <th>13</th>\n      <td>https://gradesfixer.com/free-essay-examples/ph...</td>\n    </tr>\n    <tr>\n      <th>14</th>\n      <td>https://gradesfixer.com/free-essay-examples/ps...</td>\n    </tr>\n    <tr>\n      <th>15</th>\n      <td>https://gradesfixer.com/free-essay-examples/re...</td>\n    </tr>\n    <tr>\n      <th>16</th>\n      <td>https://gradesfixer.com/free-essay-examples/sc...</td>\n    </tr>\n    <tr>\n      <th>17</th>\n      <td>https://gradesfixer.com/free-essay-examples/so...</td>\n    </tr>\n    <tr>\n      <th>18</th>\n      <td>https://gradesfixer.com/free-essay-examples/so...</td>\n    </tr>\n    <tr>\n      <th>19</th>\n      <td>https://gradesfixer.com/free-essay-examples/war/</td>\n    </tr>\n    <tr>\n      <th>20</th>\n      <td>https://gradesfixer.com/free-essay-examples/wo...</td>\n    </tr>\n  </tbody>\n</table>\n</div>"
     },
     "execution_count": 25,
     "metadata": {},
     "output_type": "execute_result"
    }
   ],
   "source": [
    "df_category = pd.DataFrame()\n",
    "\n",
    "categorical_urls =  [value['href'] for value in soup.find('li').find_all('a')]\n",
    "categorical_urls = categorical_urls[:-1]\n",
    "\n",
    "df_category['url'] = categorical_urls\n",
    "df_category"
   ],
   "metadata": {
    "collapsed": false,
    "ExecuteTime": {
     "end_time": "2023-12-19T09:42:20.449304600Z",
     "start_time": "2023-12-19T09:42:20.419735200Z"
    }
   }
  },
  {
   "cell_type": "code",
   "execution_count": 26,
   "outputs": [
    {
     "data": {
      "text/plain": "    index                                                url\n0       0   https://gradesfixer.com/free-essay-examples/art/\n1       1  https://gradesfixer.com/free-essay-examples/bu...\n2       2  https://gradesfixer.com/free-essay-examples/ec...\n3       3  https://gradesfixer.com/free-essay-examples/ed...\n4       4  https://gradesfixer.com/free-essay-examples/en...\n5       5  https://gradesfixer.com/free-essay-examples/en...\n6       6  https://gradesfixer.com/free-essay-examples/go...\n7       7  https://gradesfixer.com/free-essay-examples/he...\n8       8  https://gradesfixer.com/free-essay-examples/hi...\n9       9  https://gradesfixer.com/free-essay-examples/in...\n10     10   https://gradesfixer.com/free-essay-examples/law/\n11     11  https://gradesfixer.com/free-essay-examples/life/\n12     12  https://gradesfixer.com/free-essay-examples/li...\n13     13  https://gradesfixer.com/free-essay-examples/ph...\n14     14  https://gradesfixer.com/free-essay-examples/ps...\n15     15  https://gradesfixer.com/free-essay-examples/re...\n16     16  https://gradesfixer.com/free-essay-examples/sc...\n17     17  https://gradesfixer.com/free-essay-examples/so...\n18     18  https://gradesfixer.com/free-essay-examples/so...\n19     19   https://gradesfixer.com/free-essay-examples/war/\n20     20  https://gradesfixer.com/free-essay-examples/wo...",
      "text/html": "<div>\n<style scoped>\n    .dataframe tbody tr th:only-of-type {\n        vertical-align: middle;\n    }\n\n    .dataframe tbody tr th {\n        vertical-align: top;\n    }\n\n    .dataframe thead th {\n        text-align: right;\n    }\n</style>\n<table border=\"1\" class=\"dataframe\">\n  <thead>\n    <tr style=\"text-align: right;\">\n      <th></th>\n      <th>index</th>\n      <th>url</th>\n    </tr>\n  </thead>\n  <tbody>\n    <tr>\n      <th>0</th>\n      <td>0</td>\n      <td>https://gradesfixer.com/free-essay-examples/art/</td>\n    </tr>\n    <tr>\n      <th>1</th>\n      <td>1</td>\n      <td>https://gradesfixer.com/free-essay-examples/bu...</td>\n    </tr>\n    <tr>\n      <th>2</th>\n      <td>2</td>\n      <td>https://gradesfixer.com/free-essay-examples/ec...</td>\n    </tr>\n    <tr>\n      <th>3</th>\n      <td>3</td>\n      <td>https://gradesfixer.com/free-essay-examples/ed...</td>\n    </tr>\n    <tr>\n      <th>4</th>\n      <td>4</td>\n      <td>https://gradesfixer.com/free-essay-examples/en...</td>\n    </tr>\n    <tr>\n      <th>5</th>\n      <td>5</td>\n      <td>https://gradesfixer.com/free-essay-examples/en...</td>\n    </tr>\n    <tr>\n      <th>6</th>\n      <td>6</td>\n      <td>https://gradesfixer.com/free-essay-examples/go...</td>\n    </tr>\n    <tr>\n      <th>7</th>\n      <td>7</td>\n      <td>https://gradesfixer.com/free-essay-examples/he...</td>\n    </tr>\n    <tr>\n      <th>8</th>\n      <td>8</td>\n      <td>https://gradesfixer.com/free-essay-examples/hi...</td>\n    </tr>\n    <tr>\n      <th>9</th>\n      <td>9</td>\n      <td>https://gradesfixer.com/free-essay-examples/in...</td>\n    </tr>\n    <tr>\n      <th>10</th>\n      <td>10</td>\n      <td>https://gradesfixer.com/free-essay-examples/law/</td>\n    </tr>\n    <tr>\n      <th>11</th>\n      <td>11</td>\n      <td>https://gradesfixer.com/free-essay-examples/life/</td>\n    </tr>\n    <tr>\n      <th>12</th>\n      <td>12</td>\n      <td>https://gradesfixer.com/free-essay-examples/li...</td>\n    </tr>\n    <tr>\n      <th>13</th>\n      <td>13</td>\n      <td>https://gradesfixer.com/free-essay-examples/ph...</td>\n    </tr>\n    <tr>\n      <th>14</th>\n      <td>14</td>\n      <td>https://gradesfixer.com/free-essay-examples/ps...</td>\n    </tr>\n    <tr>\n      <th>15</th>\n      <td>15</td>\n      <td>https://gradesfixer.com/free-essay-examples/re...</td>\n    </tr>\n    <tr>\n      <th>16</th>\n      <td>16</td>\n      <td>https://gradesfixer.com/free-essay-examples/sc...</td>\n    </tr>\n    <tr>\n      <th>17</th>\n      <td>17</td>\n      <td>https://gradesfixer.com/free-essay-examples/so...</td>\n    </tr>\n    <tr>\n      <th>18</th>\n      <td>18</td>\n      <td>https://gradesfixer.com/free-essay-examples/so...</td>\n    </tr>\n    <tr>\n      <th>19</th>\n      <td>19</td>\n      <td>https://gradesfixer.com/free-essay-examples/war/</td>\n    </tr>\n    <tr>\n      <th>20</th>\n      <td>20</td>\n      <td>https://gradesfixer.com/free-essay-examples/wo...</td>\n    </tr>\n  </tbody>\n</table>\n</div>"
     },
     "execution_count": 26,
     "metadata": {},
     "output_type": "execute_result"
    }
   ],
   "source": [
    "df_category.reset_index(inplace=True)\n",
    "df_category"
   ],
   "metadata": {
    "collapsed": false,
    "ExecuteTime": {
     "end_time": "2023-12-19T09:42:20.456292900Z",
     "start_time": "2023-12-19T09:42:20.443230500Z"
    }
   }
  },
  {
   "cell_type": "code",
   "execution_count": 27,
   "outputs": [
    {
     "ename": "IndexError",
     "evalue": "list index out of range",
     "output_type": "error",
     "traceback": [
      "\u001B[1;31m---------------------------------------------------------------------------\u001B[0m",
      "\u001B[1;31mIndexError\u001B[0m                                Traceback (most recent call last)",
      "Cell \u001B[1;32mIn[27], line 7\u001B[0m\n\u001B[0;32m      4\u001B[0m     page \u001B[38;5;241m=\u001B[39m requests\u001B[38;5;241m.\u001B[39mget(url_cat)\n\u001B[0;32m      5\u001B[0m     soup \u001B[38;5;241m=\u001B[39m BeautifulSoup(page\u001B[38;5;241m.\u001B[39mtext, \u001B[38;5;124m'\u001B[39m\u001B[38;5;124mhtml\u001B[39m\u001B[38;5;124m'\u001B[39m)\n\u001B[1;32m----> 7\u001B[0m     pages_numbers_l\u001B[38;5;241m.\u001B[39mappend(\u001B[38;5;28mint\u001B[39m(\u001B[43msoup\u001B[49m\u001B[38;5;241;43m.\u001B[39;49m\u001B[43mfind_all\u001B[49m\u001B[43m(\u001B[49m\u001B[43mclass_\u001B[49m\u001B[38;5;241;43m=\u001B[39;49m\u001B[38;5;124;43m'\u001B[39;49m\u001B[38;5;124;43mpage-numbers\u001B[39;49m\u001B[38;5;124;43m'\u001B[39;49m\u001B[43m)\u001B[49m\u001B[43m[\u001B[49m\u001B[38;5;241;43m3\u001B[39;49m\u001B[43m]\u001B[49m\u001B[38;5;241m.\u001B[39mtext))\n\u001B[0;32m      9\u001B[0m df_category[\u001B[38;5;124m'\u001B[39m\u001B[38;5;124mpages\u001B[39m\u001B[38;5;124m'\u001B[39m] \u001B[38;5;241m=\u001B[39m pages_numbers_l\n\u001B[0;32m     10\u001B[0m df_category\n",
      "\u001B[1;31mIndexError\u001B[0m: list index out of range"
     ]
    }
   ],
   "source": [
    "pages_numbers_l = []\n",
    "\n",
    "for url_cat in df_category['url']:\n",
    "    page = requests.get(url_cat)\n",
    "    soup = BeautifulSoup(page.text, 'html')\n",
    "\n",
    "    pages_numbers_l.append(int(soup.find_all(class_='page-numbers')[3].text))\n",
    "\n",
    "df_category['pages'] = pages_numbers_l\n",
    "df_category"
   ],
   "metadata": {
    "collapsed": false,
    "ExecuteTime": {
     "start_time": "2023-12-19T09:42:20.455292800Z"
    }
   }
  },
  {
   "cell_type": "code",
   "execution_count": null,
   "outputs": [],
   "source": [
    "pages_dict = {'FK_category':[], 'url': []}\n",
    "\n",
    "for index in df_category.index:\n",
    "    url = df_category.loc[index, 'url']\n",
    "    pages = df_category.loc[index, 'pages']\n",
    "\n",
    "    pages_dict['FK_category'] += [index]*pages\n",
    "    pages_dict['url'] += [f\"{url}page/{i}\" for i in range(pages)]\n",
    "\n",
    "pages_df = pd.DataFrame(pages_dict)\n",
    "pages_df"
   ],
   "metadata": {
    "collapsed": false
   }
  },
  {
   "cell_type": "code",
   "execution_count": null,
   "outputs": [],
   "source": [
    "essays_df_dict = {'FK_page': [], \"url\": []}\n",
    "\n",
    "n_samples = 600\n",
    "\n",
    "for index in pages_df.sample(n_samples).index:\n",
    "    url_page = pages_df.loc[index, 'url']\n",
    "    page = requests.get(url_page)\n",
    "    soup = BeautifulSoup(page.text, 'html')\n",
    "\n",
    "    articles = soup.find_all('article', class_='loop-10 related-essay-item')\n",
    "\n",
    "    for article in articles:\n",
    "        essays_df_dict['FK_page'] += [index]\n",
    "        essays_df_dict['url'] += [article.find('h2').find('a')['href']]\n",
    "\n",
    "essays_df = pd.DataFrame(essays_df_dict)\n",
    "essays_df"
   ],
   "metadata": {
    "collapsed": false
   }
  },
  {
   "cell_type": "code",
   "execution_count": null,
   "outputs": [],
   "source": [
    "texts_l = []\n",
    "\n",
    "for url in essays_df['url']:\n",
    "    page = requests.get(url)\n",
    "    soup = BeautifulSoup(page.text, 'html')\n",
    "\n",
    "    by_div_class = soup.find('div', class_='single-essay-item')\n",
    "    if by_div_class is None:\n",
    "        texts_l.append(None)\n",
    "        continue\n",
    "    by_div_class_p_l = by_div_class.find_all(['p'])#, 'h2'\n",
    "\n",
    "    result_text = ''\n",
    "    for text_peace in by_div_class_p_l:\n",
    "        if not text_peace.parent.has_key('class'): continue\n",
    "        elif text_peace.parent['class'][0] == 'single-essay-item':\n",
    "            text = text_peace.text\n",
    "\n",
    "            result_text += text\n",
    "            result_text += '\\n'\n",
    "\n",
    "    texts_l.append(result_text)\n",
    "\n",
    "    #time_to_wait = np.abs(np.random.normal(loc=0.1, scale=0.01))\n",
    "    #time.sleep(time_to_wait)\n",
    "\n",
    "essays_df['text'] = texts_l\n",
    "essays_df"
   ],
   "metadata": {
    "collapsed": false
   }
  },
  {
   "cell_type": "code",
   "execution_count": null,
   "outputs": [],
   "source": [
    "len(texts_l)"
   ],
   "metadata": {
    "collapsed": false
   }
  },
  {
   "cell_type": "code",
   "execution_count": null,
   "outputs": [],
   "source": [
    "essays_df['text'].to_csv('human_essays.csv', index=False)"
   ],
   "metadata": {
    "collapsed": false
   }
  },
  {
   "cell_type": "code",
   "execution_count": null,
   "outputs": [],
   "source": [
    "len(essays_df['text'])"
   ],
   "metadata": {
    "collapsed": false
   }
  },
  {
   "cell_type": "code",
   "execution_count": null,
   "outputs": [],
   "source": [
    "print(essays_df['text'].sample().iloc[0])"
   ],
   "metadata": {
    "collapsed": false
   }
  },
  {
   "cell_type": "code",
   "execution_count": null,
   "outputs": [],
   "source": [],
   "metadata": {
    "collapsed": false
   }
  }
 ],
 "metadata": {
  "kernelspec": {
   "display_name": "Python 3",
   "language": "python",
   "name": "python3"
  },
  "language_info": {
   "codemirror_mode": {
    "name": "ipython",
    "version": 2
   },
   "file_extension": ".py",
   "mimetype": "text/x-python",
   "name": "python",
   "nbconvert_exporter": "python",
   "pygments_lexer": "ipython2",
   "version": "2.7.6"
  }
 },
 "nbformat": 4,
 "nbformat_minor": 5
}
